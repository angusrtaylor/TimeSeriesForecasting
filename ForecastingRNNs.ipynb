{
 "cells": [
  {
   "cell_type": "markdown",
   "metadata": {},
   "source": [
    "### Time series forecasting using LSTMs\n",
    "\n",
    "Using a simple univariate time series on monthly milk production data from https://datamarket.com/data/set/22ox/monthly-milk-production-pounds-per-cow-jan-62-dec-75#!ds=22ox&display=line"
   ]
  },
  {
   "cell_type": "code",
   "execution_count": 1,
   "metadata": {
    "collapsed": true
   },
   "outputs": [],
   "source": [
    "%matplotlib inline\n",
    "import pandas as pd\n",
    "import numpy as np\n",
    "import matplotlib.pyplot as plt"
   ]
  },
  {
   "cell_type": "code",
   "execution_count": 2,
   "metadata": {
    "collapsed": true
   },
   "outputs": [],
   "source": [
    "milk = pd.read_csv('./data/monthly-milk-production-pounds-p.csv')"
   ]
  },
  {
   "cell_type": "code",
   "execution_count": 3,
   "metadata": {
    "collapsed": true
   },
   "outputs": [],
   "source": [
    "# clean data\n",
    "milk = milk.iloc[0:-1]\n",
    "milk.columns = ['t', 'milk']\n",
    "milk['t'] = pd.to_datetime(milk['t'])"
   ]
  },
  {
   "cell_type": "code",
   "execution_count": 4,
   "metadata": {
    "collapsed": true
   },
   "outputs": [],
   "source": [
    "def fill_time_series(df, ts_col, freq):\n",
    "    min_time = min(df[ts_col])\n",
    "    max_time = max(df[ts_col])\n",
    "    dt_idx = pd.date_range(min_time, max_time, freq=freq)\n",
    "    df.index = df[ts_col]\n",
    "    df = df.reindex(dt_idx)\n",
    "    return df"
   ]
  },
  {
   "cell_type": "code",
   "execution_count": 5,
   "metadata": {
    "collapsed": true
   },
   "outputs": [],
   "source": [
    "milk = fill_time_series(milk, 't', 'MS')"
   ]
  },
  {
   "cell_type": "code",
   "execution_count": 6,
   "metadata": {},
   "outputs": [
    {
     "data": {
      "text/html": [
       "<div>\n",
       "<table border=\"1\" class=\"dataframe\">\n",
       "  <thead>\n",
       "    <tr style=\"text-align: right;\">\n",
       "      <th></th>\n",
       "      <th>t</th>\n",
       "      <th>milk</th>\n",
       "    </tr>\n",
       "  </thead>\n",
       "  <tbody>\n",
       "    <tr>\n",
       "      <th>1962-01-01</th>\n",
       "      <td>1962-01-01</td>\n",
       "      <td>589.0</td>\n",
       "    </tr>\n",
       "    <tr>\n",
       "      <th>1962-02-01</th>\n",
       "      <td>1962-02-01</td>\n",
       "      <td>561.0</td>\n",
       "    </tr>\n",
       "    <tr>\n",
       "      <th>1962-03-01</th>\n",
       "      <td>1962-03-01</td>\n",
       "      <td>640.0</td>\n",
       "    </tr>\n",
       "    <tr>\n",
       "      <th>1962-04-01</th>\n",
       "      <td>1962-04-01</td>\n",
       "      <td>656.0</td>\n",
       "    </tr>\n",
       "    <tr>\n",
       "      <th>1962-05-01</th>\n",
       "      <td>1962-05-01</td>\n",
       "      <td>727.0</td>\n",
       "    </tr>\n",
       "  </tbody>\n",
       "</table>\n",
       "</div>"
      ],
      "text/plain": [
       "                    t   milk\n",
       "1962-01-01 1962-01-01  589.0\n",
       "1962-02-01 1962-02-01  561.0\n",
       "1962-03-01 1962-03-01  640.0\n",
       "1962-04-01 1962-04-01  656.0\n",
       "1962-05-01 1962-05-01  727.0"
      ]
     },
     "execution_count": 6,
     "metadata": {},
     "output_type": "execute_result"
    }
   ],
   "source": [
    "milk.head()"
   ]
  },
  {
   "cell_type": "code",
   "execution_count": 7,
   "metadata": {},
   "outputs": [
    {
     "data": {
      "text/html": [
       "<div>\n",
       "<table border=\"1\" class=\"dataframe\">\n",
       "  <thead>\n",
       "    <tr style=\"text-align: right;\">\n",
       "      <th></th>\n",
       "      <th>milk</th>\n",
       "    </tr>\n",
       "  </thead>\n",
       "  <tbody>\n",
       "    <tr>\n",
       "      <th>count</th>\n",
       "      <td>168.000000</td>\n",
       "    </tr>\n",
       "    <tr>\n",
       "      <th>mean</th>\n",
       "      <td>754.708333</td>\n",
       "    </tr>\n",
       "    <tr>\n",
       "      <th>std</th>\n",
       "      <td>102.204524</td>\n",
       "    </tr>\n",
       "    <tr>\n",
       "      <th>min</th>\n",
       "      <td>553.000000</td>\n",
       "    </tr>\n",
       "    <tr>\n",
       "      <th>25%</th>\n",
       "      <td>677.750000</td>\n",
       "    </tr>\n",
       "    <tr>\n",
       "      <th>50%</th>\n",
       "      <td>761.000000</td>\n",
       "    </tr>\n",
       "    <tr>\n",
       "      <th>75%</th>\n",
       "      <td>824.500000</td>\n",
       "    </tr>\n",
       "    <tr>\n",
       "      <th>max</th>\n",
       "      <td>969.000000</td>\n",
       "    </tr>\n",
       "  </tbody>\n",
       "</table>\n",
       "</div>"
      ],
      "text/plain": [
       "             milk\n",
       "count  168.000000\n",
       "mean   754.708333\n",
       "std    102.204524\n",
       "min    553.000000\n",
       "25%    677.750000\n",
       "50%    761.000000\n",
       "75%    824.500000\n",
       "max    969.000000"
      ]
     },
     "execution_count": 7,
     "metadata": {},
     "output_type": "execute_result"
    }
   ],
   "source": [
    "milk.describe()"
   ]
  },
  {
   "cell_type": "code",
   "execution_count": 8,
   "metadata": {
    "collapsed": true
   },
   "outputs": [],
   "source": [
    "milk = milk.reset_index(drop=True)\n",
    "milk.to_csv('./data/milk-clean.csv', header=True, index=False)"
   ]
  },
  {
   "cell_type": "code",
   "execution_count": 9,
   "metadata": {
    "collapsed": true
   },
   "outputs": [],
   "source": [
    "# define start of test set\n",
    "test_start_date = '1973-01-01'"
   ]
  },
  {
   "cell_type": "code",
   "execution_count": 10,
   "metadata": {},
   "outputs": [
    {
     "data": {
      "text/plain": [
       "<matplotlib.axes._subplots.AxesSubplot at 0x7f1b77a3d208>"
      ]
     },
     "execution_count": 10,
     "metadata": {},
     "output_type": "execute_result"
    },
    {
     "data": {
      "image/png": "[encoded data removed]",
      "text/plain": [
       "<matplotlib.figure.Figure at 0x7f1bb10b5cf8>"
      ]
     },
     "metadata": {},
     "output_type": "display_data"
    }
   ],
   "source": [
    "milk.plot(x='t',y='milk', figsize=(15,8))"
   ]
  },
  {
   "cell_type": "markdown",
   "metadata": {},
   "source": [
    "Make data stationary by taking the difference between each value of the time series and it's previous value"
   ]
  },
  {
   "cell_type": "code",
   "execution_count": 11,
   "metadata": {
    "collapsed": true
   },
   "outputs": [],
   "source": [
    "milk['milk_stat'] = milk['milk'] - milk['milk'].shift(1)"
   ]
  },
  {
   "cell_type": "code",
   "execution_count": 12,
   "metadata": {
    "collapsed": true
   },
   "outputs": [],
   "source": [
    "milk = milk.dropna(how='any')"
   ]
  },
  {
   "cell_type": "code",
   "execution_count": 13,
   "metadata": {},
   "outputs": [
    {
     "data": {
      "text/html": [
       "<div>\n",
       "<table border=\"1\" class=\"dataframe\">\n",
       "  <thead>\n",
       "    <tr style=\"text-align: right;\">\n",
       "      <th></th>\n",
       "      <th>t</th>\n",
       "      <th>milk</th>\n",
       "      <th>milk_stat</th>\n",
       "    </tr>\n",
       "  </thead>\n",
       "  <tbody>\n",
       "    <tr>\n",
       "      <th>1</th>\n",
       "      <td>1962-02-01</td>\n",
       "      <td>561.0</td>\n",
       "      <td>-28.0</td>\n",
       "    </tr>\n",
       "    <tr>\n",
       "      <th>2</th>\n",
       "      <td>1962-03-01</td>\n",
       "      <td>640.0</td>\n",
       "      <td>79.0</td>\n",
       "    </tr>\n",
       "    <tr>\n",
       "      <th>3</th>\n",
       "      <td>1962-04-01</td>\n",
       "      <td>656.0</td>\n",
       "      <td>16.0</td>\n",
       "    </tr>\n",
       "    <tr>\n",
       "      <th>4</th>\n",
       "      <td>1962-05-01</td>\n",
       "      <td>727.0</td>\n",
       "      <td>71.0</td>\n",
       "    </tr>\n",
       "    <tr>\n",
       "      <th>5</th>\n",
       "      <td>1962-06-01</td>\n",
       "      <td>697.0</td>\n",
       "      <td>-30.0</td>\n",
       "    </tr>\n",
       "  </tbody>\n",
       "</table>\n",
       "</div>"
      ],
      "text/plain": [
       "           t   milk  milk_stat\n",
       "1 1962-02-01  561.0      -28.0\n",
       "2 1962-03-01  640.0       79.0\n",
       "3 1962-04-01  656.0       16.0\n",
       "4 1962-05-01  727.0       71.0\n",
       "5 1962-06-01  697.0      -30.0"
      ]
     },
     "execution_count": 13,
     "metadata": {},
     "output_type": "execute_result"
    }
   ],
   "source": [
    "milk.head()"
   ]
  },
  {
   "cell_type": "code",
   "execution_count": 14,
   "metadata": {},
   "outputs": [
    {
     "data": {
      "text/plain": [
       "<matplotlib.axes._subplots.AxesSubplot at 0x7f1b72e9ff98>"
      ]
     },
     "execution_count": 14,
     "metadata": {},
     "output_type": "execute_result"
    },
    {
     "data": {
      "image/png": "[encoded data removed]",
      "text/plain": [
       "<matplotlib.figure.Figure at 0x7f1b72e933c8>"
      ]
     },
     "metadata": {},
     "output_type": "display_data"
    }
   ],
   "source": [
    "milk.plot(x='t',y='milk_stat', figsize=(15,8))"
   ]
  },
  {
   "cell_type": "code",
   "execution_count": 15,
   "metadata": {},
   "outputs": [
    {
     "data": {
      "text/plain": [
       "<matplotlib.axes._subplots.AxesSubplot at 0x7f1b778edba8>"
      ]
     },
     "execution_count": 15,
     "metadata": {},
     "output_type": "execute_result"
    },
    {
     "data": {
      "image/png": "[encoded data removed]",
      "text/plain": [
       "<matplotlib.figure.Figure at 0x7f1b778bc1d0>"
      ]
     },
     "metadata": {},
     "output_type": "display_data"
    }
   ],
   "source": [
    "milk.milk_stat.plot.hist(bins=50, figsize=(8, 8))"
   ]
  },
  {
   "cell_type": "markdown",
   "metadata": {},
   "source": [
    "### Univariate time series\n",
    "\n",
    "Train a forecasting model that predicts the next value in the time series, given the previous 24 values"
   ]
  },
  {
   "cell_type": "markdown",
   "metadata": {},
   "source": [
    "Fit data scaler on training set"
   ]
  },
  {
   "cell_type": "code",
   "execution_count": 16,
   "metadata": {
    "collapsed": true
   },
   "outputs": [],
   "source": [
    "from sklearn.preprocessing import MinMaxScaler"
   ]
  },
  {
   "cell_type": "code",
   "execution_count": 17,
   "metadata": {
    "collapsed": true
   },
   "outputs": [],
   "source": [
    "def scale_series(series, scaler=None):\n",
    "    \n",
    "    vals = series.values\n",
    "    vals = vals.reshape(-1, 1)\n",
    "\n",
    "    if scaler is None:\n",
    "        scaler = MinMaxScaler()\n",
    "        scaler.fit(vals)\n",
    "\n",
    "    return scaler.transform(vals), scaler"
   ]
  },
  {
   "cell_type": "code",
   "execution_count": 18,
   "metadata": {
    "collapsed": true
   },
   "outputs": [],
   "source": [
    "train = milk.copy()\n",
    "train = train[train.t<test_start_date]\n",
    "\n",
    "scaled_vals, minmaxscaler = scale_series(train['milk_stat'])\n",
    "\n",
    "train['target'] = scaled_vals"
   ]
  },
  {
   "cell_type": "code",
   "execution_count": 19,
   "metadata": {},
   "outputs": [
    {
     "data": {
      "text/html": [
       "<div>\n",
       "<table border=\"1\" class=\"dataframe\">\n",
       "  <thead>\n",
       "    <tr style=\"text-align: right;\">\n",
       "      <th></th>\n",
       "      <th>t</th>\n",
       "      <th>milk</th>\n",
       "      <th>milk_stat</th>\n",
       "      <th>target</th>\n",
       "    </tr>\n",
       "  </thead>\n",
       "  <tbody>\n",
       "    <tr>\n",
       "      <th>1</th>\n",
       "      <td>1962-02-01</td>\n",
       "      <td>561.0</td>\n",
       "      <td>-28.0</td>\n",
       "      <td>0.209581</td>\n",
       "    </tr>\n",
       "    <tr>\n",
       "      <th>2</th>\n",
       "      <td>1962-03-01</td>\n",
       "      <td>640.0</td>\n",
       "      <td>79.0</td>\n",
       "      <td>0.850299</td>\n",
       "    </tr>\n",
       "    <tr>\n",
       "      <th>3</th>\n",
       "      <td>1962-04-01</td>\n",
       "      <td>656.0</td>\n",
       "      <td>16.0</td>\n",
       "      <td>0.473054</td>\n",
       "    </tr>\n",
       "    <tr>\n",
       "      <th>4</th>\n",
       "      <td>1962-05-01</td>\n",
       "      <td>727.0</td>\n",
       "      <td>71.0</td>\n",
       "      <td>0.802395</td>\n",
       "    </tr>\n",
       "    <tr>\n",
       "      <th>5</th>\n",
       "      <td>1962-06-01</td>\n",
       "      <td>697.0</td>\n",
       "      <td>-30.0</td>\n",
       "      <td>0.197605</td>\n",
       "    </tr>\n",
       "  </tbody>\n",
       "</table>\n",
       "</div>"
      ],
      "text/plain": [
       "           t   milk  milk_stat    target\n",
       "1 1962-02-01  561.0      -28.0  0.209581\n",
       "2 1962-03-01  640.0       79.0  0.850299\n",
       "3 1962-04-01  656.0       16.0  0.473054\n",
       "4 1962-05-01  727.0       71.0  0.802395\n",
       "5 1962-06-01  697.0      -30.0  0.197605"
      ]
     },
     "execution_count": 19,
     "metadata": {},
     "output_type": "execute_result"
    }
   ],
   "source": [
    "train.head()"
   ]
  },
  {
   "cell_type": "code",
   "execution_count": 20,
   "metadata": {
    "collapsed": true
   },
   "outputs": [],
   "source": [
    "train = train[['target']]"
   ]
  },
  {
   "cell_type": "markdown",
   "metadata": {},
   "source": [
    "Define time steps window"
   ]
  },
  {
   "cell_type": "code",
   "execution_count": 21,
   "metadata": {
    "collapsed": true
   },
   "outputs": [],
   "source": [
    "W = 24"
   ]
  },
  {
   "cell_type": "code",
   "execution_count": 22,
   "metadata": {
    "collapsed": true
   },
   "outputs": [],
   "source": [
    "for t in range(1, W+1):\n",
    "    train['target_t-'+str(t)] = train['target'].shift(t)"
   ]
  },
  {
   "cell_type": "code",
   "execution_count": 23,
   "metadata": {},
   "outputs": [
    {
     "data": {
      "text/html": [
       "<div>\n",
       "<table border=\"1\" class=\"dataframe\">\n",
       "  <thead>\n",
       "    <tr style=\"text-align: right;\">\n",
       "      <th></th>\n",
       "      <th>target</th>\n",
       "      <th>target_t-1</th>\n",
       "      <th>target_t-2</th>\n",
       "      <th>target_t-3</th>\n",
       "      <th>target_t-4</th>\n",
       "      <th>target_t-5</th>\n",
       "      <th>target_t-6</th>\n",
       "      <th>target_t-7</th>\n",
       "      <th>target_t-8</th>\n",
       "      <th>target_t-9</th>\n",
       "      <th>...</th>\n",
       "      <th>target_t-15</th>\n",
       "      <th>target_t-16</th>\n",
       "      <th>target_t-17</th>\n",
       "      <th>target_t-18</th>\n",
       "      <th>target_t-19</th>\n",
       "      <th>target_t-20</th>\n",
       "      <th>target_t-21</th>\n",
       "      <th>target_t-22</th>\n",
       "      <th>target_t-23</th>\n",
       "      <th>target_t-24</th>\n",
       "    </tr>\n",
       "  </thead>\n",
       "  <tbody>\n",
       "    <tr>\n",
       "      <th>1</th>\n",
       "      <td>0.209581</td>\n",
       "      <td>NaN</td>\n",
       "      <td>NaN</td>\n",
       "      <td>NaN</td>\n",
       "      <td>NaN</td>\n",
       "      <td>NaN</td>\n",
       "      <td>NaN</td>\n",
       "      <td>NaN</td>\n",
       "      <td>NaN</td>\n",
       "      <td>NaN</td>\n",
       "      <td>...</td>\n",
       "      <td>NaN</td>\n",
       "      <td>NaN</td>\n",
       "      <td>NaN</td>\n",
       "      <td>NaN</td>\n",
       "      <td>NaN</td>\n",
       "      <td>NaN</td>\n",
       "      <td>NaN</td>\n",
       "      <td>NaN</td>\n",
       "      <td>NaN</td>\n",
       "      <td>NaN</td>\n",
       "    </tr>\n",
       "    <tr>\n",
       "      <th>2</th>\n",
       "      <td>0.850299</td>\n",
       "      <td>0.209581</td>\n",
       "      <td>NaN</td>\n",
       "      <td>NaN</td>\n",
       "      <td>NaN</td>\n",
       "      <td>NaN</td>\n",
       "      <td>NaN</td>\n",
       "      <td>NaN</td>\n",
       "      <td>NaN</td>\n",
       "      <td>NaN</td>\n",
       "      <td>...</td>\n",
       "      <td>NaN</td>\n",
       "      <td>NaN</td>\n",
       "      <td>NaN</td>\n",
       "      <td>NaN</td>\n",
       "      <td>NaN</td>\n",
       "      <td>NaN</td>\n",
       "      <td>NaN</td>\n",
       "      <td>NaN</td>\n",
       "      <td>NaN</td>\n",
       "      <td>NaN</td>\n",
       "    </tr>\n",
       "    <tr>\n",
       "      <th>3</th>\n",
       "      <td>0.473054</td>\n",
       "      <td>0.850299</td>\n",
       "      <td>0.209581</td>\n",
       "      <td>NaN</td>\n",
       "      <td>NaN</td>\n",
       "      <td>NaN</td>\n",
       "      <td>NaN</td>\n",
       "      <td>NaN</td>\n",
       "      <td>NaN</td>\n",
       "      <td>NaN</td>\n",
       "      <td>...</td>\n",
       "      <td>NaN</td>\n",
       "      <td>NaN</td>\n",
       "      <td>NaN</td>\n",
       "      <td>NaN</td>\n",
       "      <td>NaN</td>\n",
       "      <td>NaN</td>\n",
       "      <td>NaN</td>\n",
       "      <td>NaN</td>\n",
       "      <td>NaN</td>\n",
       "      <td>NaN</td>\n",
       "    </tr>\n",
       "    <tr>\n",
       "      <th>4</th>\n",
       "      <td>0.802395</td>\n",
       "      <td>0.473054</td>\n",
       "      <td>0.850299</td>\n",
       "      <td>0.209581</td>\n",
       "      <td>NaN</td>\n",
       "      <td>NaN</td>\n",
       "      <td>NaN</td>\n",
       "      <td>NaN</td>\n",
       "      <td>NaN</td>\n",
       "      <td>NaN</td>\n",
       "      <td>...</td>\n",
       "      <td>NaN</td>\n",
       "      <td>NaN</td>\n",
       "      <td>NaN</td>\n",
       "      <td>NaN</td>\n",
       "      <td>NaN</td>\n",
       "      <td>NaN</td>\n",
       "      <td>NaN</td>\n",
       "      <td>NaN</td>\n",
       "      <td>NaN</td>\n",
       "      <td>NaN</td>\n",
       "    </tr>\n",
       "    <tr>\n",
       "      <th>5</th>\n",
       "      <td>0.197605</td>\n",
       "      <td>0.802395</td>\n",
       "      <td>0.473054</td>\n",
       "      <td>0.850299</td>\n",
       "      <td>0.209581</td>\n",
       "      <td>NaN</td>\n",
       "      <td>NaN</td>\n",
       "      <td>NaN</td>\n",
       "      <td>NaN</td>\n",
       "      <td>NaN</td>\n",
       "      <td>...</td>\n",
       "      <td>NaN</td>\n",
       "      <td>NaN</td>\n",
       "      <td>NaN</td>\n",
       "      <td>NaN</td>\n",
       "      <td>NaN</td>\n",
       "      <td>NaN</td>\n",
       "      <td>NaN</td>\n",
       "      <td>NaN</td>\n",
       "      <td>NaN</td>\n",
       "      <td>NaN</td>\n",
       "    </tr>\n",
       "  </tbody>\n",
       "</table>\n",
       "<p>5 rows × 25 columns</p>\n",
       "</div>"
      ],
      "text/plain": [
       "     target  target_t-1  target_t-2  target_t-3  target_t-4  target_t-5  \\\n",
       "1  0.209581         NaN         NaN         NaN         NaN         NaN   \n",
       "2  0.850299    0.209581         NaN         NaN         NaN         NaN   \n",
       "3  0.473054    0.850299    0.209581         NaN         NaN         NaN   \n",
       "4  0.802395    0.473054    0.850299    0.209581         NaN         NaN   \n",
       "5  0.197605    0.802395    0.473054    0.850299    0.209581         NaN   \n",
       "\n",
       "   target_t-6  target_t-7  target_t-8  target_t-9     ...       target_t-15  \\\n",
       "1         NaN         NaN         NaN         NaN     ...               NaN   \n",
       "2         NaN         NaN         NaN         NaN     ...               NaN   \n",
       "3         NaN         NaN         NaN         NaN     ...               NaN   \n",
       "4         NaN         NaN         NaN         NaN     ...               NaN   \n",
       "5         NaN         NaN         NaN         NaN     ...               NaN   \n",
       "\n",
       "   target_t-16  target_t-17  target_t-18  target_t-19  target_t-20  \\\n",
       "1          NaN          NaN          NaN          NaN          NaN   \n",
       "2          NaN          NaN          NaN          NaN          NaN   \n",
       "3          NaN          NaN          NaN          NaN          NaN   \n",
       "4          NaN          NaN          NaN          NaN          NaN   \n",
       "5          NaN          NaN          NaN          NaN          NaN   \n",
       "\n",
       "   target_t-21  target_t-22  target_t-23  target_t-24  \n",
       "1          NaN          NaN          NaN          NaN  \n",
       "2          NaN          NaN          NaN          NaN  \n",
       "3          NaN          NaN          NaN          NaN  \n",
       "4          NaN          NaN          NaN          NaN  \n",
       "5          NaN          NaN          NaN          NaN  \n",
       "\n",
       "[5 rows x 25 columns]"
      ]
     },
     "execution_count": 23,
     "metadata": {},
     "output_type": "execute_result"
    }
   ],
   "source": [
    "train.head()"
   ]
  },
  {
   "cell_type": "code",
   "execution_count": 24,
   "metadata": {
    "collapsed": true
   },
   "outputs": [],
   "source": [
    "# drop records with NaN\n",
    "train = train.dropna(how='any')"
   ]
  },
  {
   "cell_type": "code",
   "execution_count": 25,
   "metadata": {
    "collapsed": true
   },
   "outputs": [],
   "source": [
    "y = train['target'].values"
   ]
  },
  {
   "cell_type": "code",
   "execution_count": 26,
   "metadata": {},
   "outputs": [
    {
     "data": {
      "text/plain": [
       "(107,)"
      ]
     },
     "execution_count": 26,
     "metadata": {},
     "output_type": "execute_result"
    }
   ],
   "source": [
    "y.shape"
   ]
  },
  {
   "cell_type": "code",
   "execution_count": 27,
   "metadata": {},
   "outputs": [
    {
     "data": {
      "text/plain": [
       "array([ 0.31736527,  0.79640719,  0.47904192,  0.76646707,  0.17365269])"
      ]
     },
     "execution_count": 27,
     "metadata": {},
     "output_type": "execute_result"
    }
   ],
   "source": [
    "y[:5]"
   ]
  },
  {
   "cell_type": "code",
   "execution_count": 28,
   "metadata": {
    "collapsed": true
   },
   "outputs": [],
   "source": [
    "X = train.drop('target', axis=1).as_matrix()"
   ]
  },
  {
   "cell_type": "code",
   "execution_count": 29,
   "metadata": {
    "collapsed": true
   },
   "outputs": [],
   "source": [
    "X = X.reshape(X.shape[0], W, 1)"
   ]
  },
  {
   "cell_type": "markdown",
   "metadata": {},
   "source": [
    "Input shape is (samples, time steps, features)"
   ]
  },
  {
   "cell_type": "code",
   "execution_count": 30,
   "metadata": {},
   "outputs": [
    {
     "data": {
      "text/plain": [
       "(107, 24, 1)"
      ]
     },
     "execution_count": 30,
     "metadata": {},
     "output_type": "execute_result"
    }
   ],
   "source": [
    "X.shape"
   ]
  },
  {
   "cell_type": "markdown",
   "metadata": {},
   "source": [
    "First training example:"
   ]
  },
  {
   "cell_type": "code",
   "execution_count": 31,
   "metadata": {},
   "outputs": [
    {
     "data": {
      "text/plain": [
       "array([[ 0.55688623],\n",
       "       [ 0.5748503 ],\n",
       "       [ 0.24550898],\n",
       "       [ 0.4011976 ],\n",
       "       [ 0.17365269],\n",
       "       [ 0.11976048],\n",
       "       [ 0.04191617],\n",
       "       [ 0.22155689],\n",
       "       [ 0.79041916],\n",
       "       [ 0.49700599],\n",
       "       [ 0.89820359],\n",
       "       [ 0.17365269],\n",
       "       [ 0.48502994],\n",
       "       [ 0.5508982 ],\n",
       "       [ 0.23353293],\n",
       "       [ 0.43113772],\n",
       "       [ 0.19161677],\n",
       "       [ 0.13173653],\n",
       "       [ 0.03592814],\n",
       "       [ 0.19760479],\n",
       "       [ 0.80239521],\n",
       "       [ 0.47305389],\n",
       "       [ 0.8502994 ],\n",
       "       [ 0.20958084]])"
      ]
     },
     "execution_count": 31,
     "metadata": {},
     "output_type": "execute_result"
    }
   ],
   "source": [
    "X[0,:,:]"
   ]
  },
  {
   "cell_type": "code",
   "execution_count": 32,
   "metadata": {},
   "outputs": [
    {
     "name": "stderr",
     "output_type": "stream",
     "text": [
      "Using TensorFlow backend.\n"
     ]
    }
   ],
   "source": [
    "from keras.models import Model, Sequential\n",
    "from keras.layers import LSTM, Dense, Input, Concatenate, Activation"
   ]
  },
  {
   "cell_type": "code",
   "execution_count": 33,
   "metadata": {
    "collapsed": true
   },
   "outputs": [],
   "source": [
    "model = Sequential()"
   ]
  },
  {
   "cell_type": "code",
   "execution_count": 34,
   "metadata": {
    "collapsed": true
   },
   "outputs": [],
   "source": [
    "model.add(LSTM(2, input_shape=(W, 1)))\n",
    "model.add(Dense(1))\n",
    "model.add(Activation('linear'))"
   ]
  },
  {
   "cell_type": "code",
   "execution_count": 35,
   "metadata": {
    "collapsed": true
   },
   "outputs": [],
   "source": [
    "model.compile(optimizer='adam', loss='mse')"
   ]
  },
  {
   "cell_type": "code",
   "execution_count": 36,
   "metadata": {},
   "outputs": [
    {
     "name": "stdout",
     "output_type": "stream",
     "text": [
      "_________________________________________________________________\n",
      "Layer (type)                 Output Shape              Param #   \n",
      "=================================================================\n",
      "lstm_1 (LSTM)                (None, 2)                 32        \n",
      "_________________________________________________________________\n",
      "dense_1 (Dense)              (None, 1)                 3         \n",
      "_________________________________________________________________\n",
      "activation_1 (Activation)    (None, 1)                 0         \n",
      "=================================================================\n",
      "Total params: 35\n",
      "Trainable params: 35\n",
      "Non-trainable params: 0\n",
      "_________________________________________________________________\n"
     ]
    }
   ],
   "source": [
    "model.summary()"
   ]
  },
  {
   "cell_type": "code",
   "execution_count": 37,
   "metadata": {},
   "outputs": [
    {
     "name": "stdout",
     "output_type": "stream",
     "text": [
      "Epoch 1/500\n",
      " - 1s - loss: 0.3089\n",
      "Epoch 2/500\n",
      " - 0s - loss: 0.2902\n",
      "Epoch 3/500\n",
      " - 0s - loss: 0.2723\n",
      "Epoch 4/500\n",
      " - 0s - loss: 0.2558\n",
      "Epoch 5/500\n",
      " - 0s - loss: 0.2406\n",
      "Epoch 6/500\n",
      " - 0s - loss: 0.2266\n",
      "Epoch 7/500\n",
      " - 0s - loss: 0.2137\n",
      "Epoch 8/500\n",
      " - 0s - loss: 0.2017\n",
      "Epoch 9/500\n",
      " - 0s - loss: 0.1904\n",
      "Epoch 10/500\n",
      " - 0s - loss: 0.1797\n",
      "Epoch 11/500\n",
      " - 0s - loss: 0.1695\n",
      "Epoch 12/500\n",
      " - 0s - loss: 0.1598\n",
      "Epoch 13/500\n",
      " - 0s - loss: 0.1504\n",
      "Epoch 14/500\n",
      " - 0s - loss: 0.1415\n",
      "Epoch 15/500\n",
      " - 0s - loss: 0.1331\n",
      "Epoch 16/500\n",
      " - 0s - loss: 0.1252\n",
      "Epoch 17/500\n",
      " - 0s - loss: 0.1179\n",
      "Epoch 18/500\n",
      " - 0s - loss: 0.1112\n",
      "Epoch 19/500\n",
      " - 0s - loss: 0.1052\n",
      "Epoch 20/500\n",
      " - 0s - loss: 0.1000\n",
      "Epoch 21/500\n",
      " - 0s - loss: 0.0956\n",
      "Epoch 22/500\n",
      " - 0s - loss: 0.0919\n",
      "Epoch 23/500\n",
      " - 0s - loss: 0.0889\n",
      "Epoch 24/500\n",
      " - 0s - loss: 0.0866\n",
      "Epoch 25/500\n",
      " - 0s - loss: 0.0848\n",
      "Epoch 26/500\n",
      " - 0s - loss: 0.0834\n",
      "Epoch 27/500\n",
      " - 0s - loss: 0.0824\n",
      "Epoch 28/500\n",
      " - 0s - loss: 0.0817\n",
      "Epoch 29/500\n",
      " - 0s - loss: 0.0811\n",
      "Epoch 30/500\n",
      " - 0s - loss: 0.0807\n",
      "Epoch 31/500\n",
      " - 0s - loss: 0.0804\n",
      "Epoch 32/500\n",
      " - 0s - loss: 0.0801\n",
      "Epoch 33/500\n",
      " - 0s - loss: 0.0799\n",
      "Epoch 34/500\n",
      " - 0s - loss: 0.0796\n",
      "Epoch 35/500\n",
      " - 0s - loss: 0.0794\n",
      "Epoch 36/500\n",
      " - 0s - loss: 0.0792\n",
      "Epoch 37/500\n",
      " - 0s - loss: 0.0789\n",
      "Epoch 38/500\n",
      " - 0s - loss: 0.0787\n",
      "Epoch 39/500\n",
      " - 0s - loss: 0.0785\n",
      "Epoch 40/500\n",
      " - 0s - loss: 0.0783\n",
      "Epoch 41/500\n",
      " - 0s - loss: 0.0781\n",
      "Epoch 42/500\n",
      " - 0s - loss: 0.0778\n",
      "Epoch 43/500\n",
      " - 0s - loss: 0.0776\n",
      "Epoch 44/500\n",
      " - 0s - loss: 0.0774\n",
      "Epoch 45/500\n",
      " - 0s - loss: 0.0772\n",
      "Epoch 46/500\n",
      " - 0s - loss: 0.0770\n",
      "Epoch 47/500\n",
      " - 0s - loss: 0.0768\n",
      "Epoch 48/500\n",
      " - 0s - loss: 0.0766\n",
      "Epoch 49/500\n",
      " - 0s - loss: 0.0763\n",
      "Epoch 50/500\n",
      " - 0s - loss: 0.0761\n",
      "Epoch 51/500\n",
      " - 0s - loss: 0.0759\n",
      "Epoch 52/500\n",
      " - 0s - loss: 0.0757\n",
      "Epoch 53/500\n",
      " - 0s - loss: 0.0755\n",
      "Epoch 54/500\n",
      " - 0s - loss: 0.0753\n",
      "Epoch 55/500\n",
      " - 0s - loss: 0.0751\n",
      "Epoch 56/500\n",
      " - 0s - loss: 0.0749\n",
      "Epoch 57/500\n",
      " - 0s - loss: 0.0747\n",
      "Epoch 58/500\n",
      " - 0s - loss: 0.0745\n",
      "Epoch 59/500\n",
      " - 0s - loss: 0.0743\n",
      "Epoch 60/500\n",
      " - 0s - loss: 0.0741\n",
      "Epoch 61/500\n",
      " - 0s - loss: 0.0739\n",
      "Epoch 62/500\n",
      " - 0s - loss: 0.0737\n",
      "Epoch 63/500\n",
      " - 0s - loss: 0.0736\n",
      "Epoch 64/500\n",
      " - 0s - loss: 0.0734\n",
      "Epoch 65/500\n",
      " - 0s - loss: 0.0732\n",
      "Epoch 66/500\n",
      " - 0s - loss: 0.0730\n",
      "Epoch 67/500\n",
      " - 0s - loss: 0.0728\n",
      "Epoch 68/500\n",
      " - 0s - loss: 0.0726\n",
      "Epoch 69/500\n",
      " - 0s - loss: 0.0725\n",
      "Epoch 70/500\n",
      " - 0s - loss: 0.0723\n",
      "Epoch 71/500\n",
      " - 0s - loss: 0.0721\n",
      "Epoch 72/500\n",
      " - 0s - loss: 0.0719\n",
      "Epoch 73/500\n",
      " - 0s - loss: 0.0717\n",
      "Epoch 74/500\n",
      " - 0s - loss: 0.0716\n",
      "Epoch 75/500\n",
      " - 0s - loss: 0.0714\n",
      "Epoch 76/500\n",
      " - 0s - loss: 0.0712\n",
      "Epoch 77/500\n",
      " - 0s - loss: 0.0711\n",
      "Epoch 78/500\n",
      " - 0s - loss: 0.0709\n",
      "Epoch 79/500\n",
      " - 0s - loss: 0.0707\n",
      "Epoch 80/500\n",
      " - 0s - loss: 0.0706\n",
      "Epoch 81/500\n",
      " - 0s - loss: 0.0704\n",
      "Epoch 82/500\n",
      " - 0s - loss: 0.0702\n",
      "Epoch 83/500\n",
      " - 0s - loss: 0.0701\n",
      "Epoch 84/500\n",
      " - 0s - loss: 0.0699\n",
      "Epoch 85/500\n",
      " - 0s - loss: 0.0697\n",
      "Epoch 86/500\n",
      " - 0s - loss: 0.0696\n",
      "Epoch 87/500\n",
      " - 0s - loss: 0.0694\n",
      "Epoch 88/500\n",
      " - 0s - loss: 0.0693\n",
      "Epoch 89/500\n",
      " - 0s - loss: 0.0691\n",
      "Epoch 90/500\n",
      " - 0s - loss: 0.0690\n",
      "Epoch 91/500\n",
      " - 0s - loss: 0.0688\n",
      "Epoch 92/500\n",
      " - 0s - loss: 0.0687\n",
      "Epoch 93/500\n",
      " - 0s - loss: 0.0685\n",
      "Epoch 94/500\n",
      " - 0s - loss: 0.0684\n",
      "Epoch 95/500\n",
      " - 0s - loss: 0.0682\n",
      "Epoch 96/500\n",
      " - 0s - loss: 0.0681\n",
      "Epoch 97/500\n",
      " - 0s - loss: 0.0679\n",
      "Epoch 98/500\n",
      " - 0s - loss: 0.0678\n",
      "Epoch 99/500\n",
      " - 0s - loss: 0.0676\n",
      "Epoch 100/500\n",
      " - 0s - loss: 0.0675\n",
      "Epoch 101/500\n",
      " - 0s - loss: 0.0673\n",
      "Epoch 102/500\n",
      " - 0s - loss: 0.0672\n",
      "Epoch 103/500\n",
      " - 0s - loss: 0.0671\n",
      "Epoch 104/500\n",
      " - 0s - loss: 0.0669\n",
      "Epoch 105/500\n",
      " - 0s - loss: 0.0668\n",
      "Epoch 106/500\n",
      " - 0s - loss: 0.0666\n",
      "Epoch 107/500\n",
      " - 0s - loss: 0.0665\n",
      "Epoch 108/500\n",
      " - 0s - loss: 0.0664\n",
      "Epoch 109/500\n",
      " - 0s - loss: 0.0662\n",
      "Epoch 110/500\n",
      " - 0s - loss: 0.0661\n",
      "Epoch 111/500\n",
      " - 0s - loss: 0.0660\n",
      "Epoch 112/500\n",
      " - 0s - loss: 0.0658\n",
      "Epoch 113/500\n",
      " - 0s - loss: 0.0657\n",
      "Epoch 114/500\n",
      " - 0s - loss: 0.0656\n",
      "Epoch 115/500\n",
      " - 0s - loss: 0.0654\n",
      "Epoch 116/500\n",
      " - 0s - loss: 0.0653\n",
      "Epoch 117/500\n",
      " - 0s - loss: 0.0652\n",
      "Epoch 118/500\n",
      " - 0s - loss: 0.0650\n",
      "Epoch 119/500\n",
      " - 0s - loss: 0.0649\n",
      "Epoch 120/500\n",
      " - 0s - loss: 0.0648\n",
      "Epoch 121/500\n",
      " - 0s - loss: 0.0646\n",
      "Epoch 122/500\n",
      " - 0s - loss: 0.0645\n",
      "Epoch 123/500\n",
      " - 0s - loss: 0.0644\n",
      "Epoch 124/500\n",
      " - 0s - loss: 0.0642\n",
      "Epoch 125/500\n",
      " - 0s - loss: 0.0641\n",
      "Epoch 126/500\n",
      " - 0s - loss: 0.0640\n",
      "Epoch 127/500\n",
      " - 0s - loss: 0.0638\n",
      "Epoch 128/500\n",
      " - 0s - loss: 0.0637\n",
      "Epoch 129/500\n",
      " - 0s - loss: 0.0636\n",
      "Epoch 130/500\n",
      " - 0s - loss: 0.0634\n",
      "Epoch 131/500\n",
      " - 0s - loss: 0.0633\n",
      "Epoch 132/500\n",
      " - 0s - loss: 0.0632\n",
      "Epoch 133/500\n",
      " - 0s - loss: 0.0631\n",
      "Epoch 134/500\n",
      " - 0s - loss: 0.0629\n",
      "Epoch 135/500\n",
      " - 0s - loss: 0.0628\n",
      "Epoch 136/500\n",
      " - 0s - loss: 0.0627\n",
      "Epoch 137/500\n",
      " - 0s - loss: 0.0625\n",
      "Epoch 138/500\n",
      " - 0s - loss: 0.0624\n",
      "Epoch 139/500\n",
      " - 0s - loss: 0.0623\n",
      "Epoch 140/500\n",
      " - 0s - loss: 0.0622\n",
      "Epoch 141/500\n",
      " - 0s - loss: 0.0620\n",
      "Epoch 142/500\n",
      " - 0s - loss: 0.0619\n",
      "Epoch 143/500\n",
      " - 0s - loss: 0.0618\n",
      "Epoch 144/500\n",
      " - 0s - loss: 0.0616\n",
      "Epoch 145/500\n",
      " - 0s - loss: 0.0615\n",
      "Epoch 146/500\n",
      " - 0s - loss: 0.0614\n",
      "Epoch 147/500\n",
      " - 0s - loss: 0.0612\n",
      "Epoch 148/500\n",
      " - 0s - loss: 0.0611\n",
      "Epoch 149/500\n",
      " - 0s - loss: 0.0610\n",
      "Epoch 150/500\n",
      " - 0s - loss: 0.0609\n",
      "Epoch 151/500\n",
      " - 0s - loss: 0.0607\n",
      "Epoch 152/500\n",
      " - 0s - loss: 0.0606\n",
      "Epoch 153/500\n",
      " - 0s - loss: 0.0605\n",
      "Epoch 154/500\n",
      " - 0s - loss: 0.0603\n",
      "Epoch 155/500\n",
      " - 0s - loss: 0.0602\n",
      "Epoch 156/500\n",
      " - 0s - loss: 0.0601\n",
      "Epoch 157/500\n",
      " - 0s - loss: 0.0599\n",
      "Epoch 158/500\n",
      " - 0s - loss: 0.0598\n",
      "Epoch 159/500\n",
      " - 0s - loss: 0.0597\n",
      "Epoch 160/500\n",
      " - 0s - loss: 0.0595\n",
      "Epoch 161/500\n",
      " - 0s - loss: 0.0594\n",
      "Epoch 162/500\n",
      " - 0s - loss: 0.0593\n",
      "Epoch 163/500\n",
      " - 0s - loss: 0.0591\n",
      "Epoch 164/500\n",
      " - 0s - loss: 0.0590\n",
      "Epoch 165/500\n",
      " - 0s - loss: 0.0588\n",
      "Epoch 166/500\n",
      " - 0s - loss: 0.0587\n",
      "Epoch 167/500\n",
      " - 0s - loss: 0.0586\n",
      "Epoch 168/500\n",
      " - 0s - loss: 0.0584\n",
      "Epoch 169/500\n",
      " - 0s - loss: 0.0583\n",
      "Epoch 170/500\n",
      " - 0s - loss: 0.0582\n",
      "Epoch 171/500\n",
      " - 0s - loss: 0.0580\n",
      "Epoch 172/500\n",
      " - 0s - loss: 0.0579\n",
      "Epoch 173/500\n",
      " - 0s - loss: 0.0577\n",
      "Epoch 174/500\n",
      " - 0s - loss: 0.0576\n",
      "Epoch 175/500\n",
      " - 0s - loss: 0.0574\n",
      "Epoch 176/500\n",
      " - 0s - loss: 0.0573\n",
      "Epoch 177/500\n",
      " - 0s - loss: 0.0572\n",
      "Epoch 178/500\n",
      " - 0s - loss: 0.0570\n",
      "Epoch 179/500\n",
      " - 0s - loss: 0.0569\n",
      "Epoch 180/500\n",
      " - 0s - loss: 0.0567\n",
      "Epoch 181/500\n",
      " - 0s - loss: 0.0566\n",
      "Epoch 182/500\n",
      " - 0s - loss: 0.0564\n",
      "Epoch 183/500\n",
      " - 0s - loss: 0.0563\n",
      "Epoch 184/500\n",
      " - 0s - loss: 0.0561\n",
      "Epoch 185/500\n",
      " - 0s - loss: 0.0560\n",
      "Epoch 186/500\n",
      " - 0s - loss: 0.0558\n",
      "Epoch 187/500\n",
      " - 0s - loss: 0.0557\n",
      "Epoch 188/500\n",
      " - 0s - loss: 0.0555\n",
      "Epoch 189/500\n",
      " - 0s - loss: 0.0554\n",
      "Epoch 190/500\n",
      " - 0s - loss: 0.0552\n",
      "Epoch 191/500\n",
      " - 0s - loss: 0.0551\n",
      "Epoch 192/500\n",
      " - 0s - loss: 0.0549\n",
      "Epoch 193/500\n",
      " - 0s - loss: 0.0548\n",
      "Epoch 194/500\n",
      " - 0s - loss: 0.0546\n",
      "Epoch 195/500\n",
      " - 0s - loss: 0.0544\n",
      "Epoch 196/500\n",
      " - 0s - loss: 0.0543\n",
      "Epoch 197/500\n",
      " - 0s - loss: 0.0541\n",
      "Epoch 198/500\n",
      " - 0s - loss: 0.0540\n",
      "Epoch 199/500\n",
      " - 0s - loss: 0.0538\n",
      "Epoch 200/500\n",
      " - 0s - loss: 0.0536\n",
      "Epoch 201/500\n",
      " - 0s - loss: 0.0535\n",
      "Epoch 202/500\n",
      " - 0s - loss: 0.0533\n",
      "Epoch 203/500\n",
      " - 0s - loss: 0.0532\n",
      "Epoch 204/500\n",
      " - 0s - loss: 0.0530\n",
      "Epoch 205/500\n",
      " - 0s - loss: 0.0528\n",
      "Epoch 206/500\n",
      " - 0s - loss: 0.0526\n",
      "Epoch 207/500\n",
      " - 0s - loss: 0.0525\n",
      "Epoch 208/500\n",
      " - 0s - loss: 0.0523\n",
      "Epoch 209/500\n",
      " - 0s - loss: 0.0521\n",
      "Epoch 210/500\n",
      " - 0s - loss: 0.0520\n",
      "Epoch 211/500\n",
      " - 0s - loss: 0.0518\n",
      "Epoch 212/500\n",
      " - 0s - loss: 0.0516\n",
      "Epoch 213/500\n",
      " - 0s - loss: 0.0514\n",
      "Epoch 214/500\n",
      " - 0s - loss: 0.0513\n",
      "Epoch 215/500\n",
      " - 0s - loss: 0.0511\n",
      "Epoch 216/500\n",
      " - 0s - loss: 0.0509\n",
      "Epoch 217/500\n",
      " - 0s - loss: 0.0507\n",
      "Epoch 218/500\n",
      " - 0s - loss: 0.0505\n",
      "Epoch 219/500\n",
      " - 0s - loss: 0.0504\n",
      "Epoch 220/500\n",
      " - 0s - loss: 0.0502\n",
      "Epoch 221/500\n",
      " - 0s - loss: 0.0500\n",
      "Epoch 222/500\n",
      " - 0s - loss: 0.0498\n",
      "Epoch 223/500\n",
      " - 0s - loss: 0.0496\n",
      "Epoch 224/500\n",
      " - 0s - loss: 0.0494\n",
      "Epoch 225/500\n",
      " - 0s - loss: 0.0492\n",
      "Epoch 226/500\n",
      " - 0s - loss: 0.0491\n",
      "Epoch 227/500\n",
      " - 0s - loss: 0.0489\n",
      "Epoch 228/500\n",
      " - 0s - loss: 0.0487\n",
      "Epoch 229/500\n",
      " - 0s - loss: 0.0485\n",
      "Epoch 230/500\n",
      " - 0s - loss: 0.0483\n",
      "Epoch 231/500\n",
      " - 0s - loss: 0.0481\n",
      "Epoch 232/500\n",
      " - 0s - loss: 0.0479\n",
      "Epoch 233/500\n",
      " - 0s - loss: 0.0477\n",
      "Epoch 234/500\n",
      " - 0s - loss: 0.0475\n",
      "Epoch 235/500\n",
      " - 0s - loss: 0.0473\n",
      "Epoch 236/500\n",
      " - 0s - loss: 0.0471\n",
      "Epoch 237/500\n",
      " - 0s - loss: 0.0469\n",
      "Epoch 238/500\n"
     ]
    },
    {
     "name": "stdout",
     "output_type": "stream",
     "text": [
      " - 0s - loss: 0.0467\n",
      "Epoch 239/500\n",
      " - 0s - loss: 0.0465\n",
      "Epoch 240/500\n",
      " - 0s - loss: 0.0463\n",
      "Epoch 241/500\n",
      " - 0s - loss: 0.0461\n",
      "Epoch 242/500\n",
      " - 0s - loss: 0.0459\n",
      "Epoch 243/500\n",
      " - 0s - loss: 0.0456\n",
      "Epoch 244/500\n",
      " - 0s - loss: 0.0454\n",
      "Epoch 245/500\n",
      " - 0s - loss: 0.0452\n",
      "Epoch 246/500\n",
      " - 0s - loss: 0.0450\n",
      "Epoch 247/500\n",
      " - 0s - loss: 0.0448\n",
      "Epoch 248/500\n",
      " - 0s - loss: 0.0446\n",
      "Epoch 249/500\n",
      " - 0s - loss: 0.0444\n",
      "Epoch 250/500\n",
      " - 0s - loss: 0.0442\n",
      "Epoch 251/500\n",
      " - 0s - loss: 0.0439\n",
      "Epoch 252/500\n",
      " - 0s - loss: 0.0437\n",
      "Epoch 253/500\n",
      " - 0s - loss: 0.0435\n",
      "Epoch 254/500\n",
      " - 0s - loss: 0.0433\n",
      "Epoch 255/500\n",
      " - 0s - loss: 0.0431\n",
      "Epoch 256/500\n",
      " - 0s - loss: 0.0428\n",
      "Epoch 257/500\n",
      " - 0s - loss: 0.0426\n",
      "Epoch 258/500\n",
      " - 0s - loss: 0.0424\n",
      "Epoch 259/500\n",
      " - 0s - loss: 0.0422\n",
      "Epoch 260/500\n",
      " - 0s - loss: 0.0419\n",
      "Epoch 261/500\n",
      " - 0s - loss: 0.0417\n",
      "Epoch 262/500\n",
      " - 0s - loss: 0.0415\n",
      "Epoch 263/500\n",
      " - 0s - loss: 0.0412\n",
      "Epoch 264/500\n",
      " - 0s - loss: 0.0410\n",
      "Epoch 265/500\n",
      " - 0s - loss: 0.0408\n",
      "Epoch 266/500\n",
      " - 0s - loss: 0.0405\n",
      "Epoch 267/500\n",
      " - 0s - loss: 0.0403\n",
      "Epoch 268/500\n",
      " - 0s - loss: 0.0401\n",
      "Epoch 269/500\n",
      " - 0s - loss: 0.0398\n",
      "Epoch 270/500\n",
      " - 0s - loss: 0.0396\n",
      "Epoch 271/500\n",
      " - 0s - loss: 0.0394\n",
      "Epoch 272/500\n",
      " - 0s - loss: 0.0391\n",
      "Epoch 273/500\n",
      " - 0s - loss: 0.0389\n",
      "Epoch 274/500\n",
      " - 0s - loss: 0.0387\n",
      "Epoch 275/500\n",
      " - 0s - loss: 0.0384\n",
      "Epoch 276/500\n",
      " - 0s - loss: 0.0382\n",
      "Epoch 277/500\n",
      " - 0s - loss: 0.0379\n",
      "Epoch 278/500\n",
      " - 0s - loss: 0.0377\n",
      "Epoch 279/500\n",
      " - 0s - loss: 0.0375\n",
      "Epoch 280/500\n",
      " - 0s - loss: 0.0372\n",
      "Epoch 281/500\n",
      " - 0s - loss: 0.0370\n",
      "Epoch 282/500\n",
      " - 0s - loss: 0.0367\n",
      "Epoch 283/500\n",
      " - 0s - loss: 0.0365\n",
      "Epoch 284/500\n",
      " - 0s - loss: 0.0363\n",
      "Epoch 285/500\n",
      " - 0s - loss: 0.0360\n",
      "Epoch 286/500\n",
      " - 0s - loss: 0.0358\n",
      "Epoch 287/500\n",
      " - 0s - loss: 0.0355\n",
      "Epoch 288/500\n",
      " - 0s - loss: 0.0353\n",
      "Epoch 289/500\n",
      " - 0s - loss: 0.0350\n",
      "Epoch 290/500\n",
      " - 0s - loss: 0.0348\n",
      "Epoch 291/500\n",
      " - 0s - loss: 0.0346\n",
      "Epoch 292/500\n",
      " - 0s - loss: 0.0343\n",
      "Epoch 293/500\n",
      " - 0s - loss: 0.0341\n",
      "Epoch 294/500\n",
      " - 0s - loss: 0.0338\n",
      "Epoch 295/500\n",
      " - 0s - loss: 0.0336\n",
      "Epoch 296/500\n",
      " - 0s - loss: 0.0333\n",
      "Epoch 297/500\n",
      " - 0s - loss: 0.0331\n",
      "Epoch 298/500\n",
      " - 0s - loss: 0.0329\n",
      "Epoch 299/500\n",
      " - 0s - loss: 0.0326\n",
      "Epoch 300/500\n",
      " - 0s - loss: 0.0324\n",
      "Epoch 301/500\n",
      " - 0s - loss: 0.0321\n",
      "Epoch 302/500\n",
      " - 0s - loss: 0.0319\n",
      "Epoch 303/500\n",
      " - 0s - loss: 0.0316\n",
      "Epoch 304/500\n",
      " - 0s - loss: 0.0314\n",
      "Epoch 305/500\n",
      " - 0s - loss: 0.0312\n",
      "Epoch 306/500\n",
      " - 0s - loss: 0.0309\n",
      "Epoch 307/500\n",
      " - 0s - loss: 0.0307\n",
      "Epoch 308/500\n",
      " - 0s - loss: 0.0304\n",
      "Epoch 309/500\n",
      " - 0s - loss: 0.0302\n",
      "Epoch 310/500\n",
      " - 0s - loss: 0.0300\n",
      "Epoch 311/500\n",
      " - 0s - loss: 0.0297\n",
      "Epoch 312/500\n",
      " - 0s - loss: 0.0295\n",
      "Epoch 313/500\n",
      " - 0s - loss: 0.0293\n",
      "Epoch 314/500\n",
      " - 0s - loss: 0.0290\n",
      "Epoch 315/500\n",
      " - 0s - loss: 0.0288\n",
      "Epoch 316/500\n",
      " - 0s - loss: 0.0286\n",
      "Epoch 317/500\n",
      " - 0s - loss: 0.0283\n",
      "Epoch 318/500\n",
      " - 0s - loss: 0.0281\n",
      "Epoch 319/500\n",
      " - 0s - loss: 0.0279\n",
      "Epoch 320/500\n",
      " - 0s - loss: 0.0276\n",
      "Epoch 321/500\n",
      " - 0s - loss: 0.0274\n",
      "Epoch 322/500\n",
      " - 0s - loss: 0.0272\n",
      "Epoch 323/500\n",
      " - 0s - loss: 0.0270\n",
      "Epoch 324/500\n",
      " - 0s - loss: 0.0267\n",
      "Epoch 325/500\n",
      " - 0s - loss: 0.0265\n",
      "Epoch 326/500\n",
      " - 0s - loss: 0.0263\n",
      "Epoch 327/500\n",
      " - 0s - loss: 0.0261\n",
      "Epoch 328/500\n",
      " - 0s - loss: 0.0258\n",
      "Epoch 329/500\n",
      " - 0s - loss: 0.0256\n",
      "Epoch 330/500\n",
      " - 0s - loss: 0.0254\n",
      "Epoch 331/500\n",
      " - 0s - loss: 0.0252\n",
      "Epoch 332/500\n",
      " - 0s - loss: 0.0250\n",
      "Epoch 333/500\n",
      " - 0s - loss: 0.0247\n",
      "Epoch 334/500\n",
      " - 0s - loss: 0.0245\n",
      "Epoch 335/500\n",
      " - 0s - loss: 0.0243\n",
      "Epoch 336/500\n",
      " - 0s - loss: 0.0241\n",
      "Epoch 337/500\n",
      " - 0s - loss: 0.0239\n",
      "Epoch 338/500\n",
      " - 0s - loss: 0.0237\n",
      "Epoch 339/500\n",
      " - 0s - loss: 0.0235\n",
      "Epoch 340/500\n",
      " - 0s - loss: 0.0233\n",
      "Epoch 341/500\n",
      " - 0s - loss: 0.0231\n",
      "Epoch 342/500\n",
      " - 0s - loss: 0.0229\n",
      "Epoch 343/500\n",
      " - 0s - loss: 0.0227\n",
      "Epoch 344/500\n",
      " - 0s - loss: 0.0225\n",
      "Epoch 345/500\n",
      " - 0s - loss: 0.0223\n",
      "Epoch 346/500\n",
      " - 0s - loss: 0.0221\n",
      "Epoch 347/500\n",
      " - 0s - loss: 0.0219\n",
      "Epoch 348/500\n",
      " - 0s - loss: 0.0217\n",
      "Epoch 349/500\n",
      " - 0s - loss: 0.0215\n",
      "Epoch 350/500\n",
      " - 0s - loss: 0.0213\n",
      "Epoch 351/500\n",
      " - 0s - loss: 0.0211\n",
      "Epoch 352/500\n",
      " - 0s - loss: 0.0209\n",
      "Epoch 353/500\n",
      " - 0s - loss: 0.0207\n",
      "Epoch 354/500\n",
      " - 0s - loss: 0.0205\n",
      "Epoch 355/500\n",
      " - 0s - loss: 0.0204\n",
      "Epoch 356/500\n",
      " - 0s - loss: 0.0202\n",
      "Epoch 357/500\n",
      " - 0s - loss: 0.0200\n",
      "Epoch 358/500\n",
      " - 0s - loss: 0.0198\n",
      "Epoch 359/500\n",
      " - 0s - loss: 0.0196\n",
      "Epoch 360/500\n",
      " - 0s - loss: 0.0195\n",
      "Epoch 361/500\n",
      " - 0s - loss: 0.0193\n",
      "Epoch 362/500\n",
      " - 0s - loss: 0.0191\n",
      "Epoch 363/500\n",
      " - 0s - loss: 0.0189\n",
      "Epoch 364/500\n",
      " - 0s - loss: 0.0188\n",
      "Epoch 365/500\n",
      " - 0s - loss: 0.0186\n",
      "Epoch 366/500\n",
      " - 0s - loss: 0.0184\n",
      "Epoch 367/500\n",
      " - 0s - loss: 0.0182\n",
      "Epoch 368/500\n",
      " - 0s - loss: 0.0181\n",
      "Epoch 369/500\n",
      " - 0s - loss: 0.0179\n",
      "Epoch 370/500\n",
      " - 0s - loss: 0.0177\n",
      "Epoch 371/500\n",
      " - 0s - loss: 0.0176\n",
      "Epoch 372/500\n",
      " - 0s - loss: 0.0174\n",
      "Epoch 373/500\n",
      " - 0s - loss: 0.0173\n",
      "Epoch 374/500\n",
      " - 0s - loss: 0.0171\n",
      "Epoch 375/500\n",
      " - 0s - loss: 0.0169\n",
      "Epoch 376/500\n",
      " - 0s - loss: 0.0168\n",
      "Epoch 377/500\n",
      " - 0s - loss: 0.0166\n",
      "Epoch 378/500\n",
      " - 0s - loss: 0.0165\n",
      "Epoch 379/500\n",
      " - 0s - loss: 0.0163\n",
      "Epoch 380/500\n",
      " - 0s - loss: 0.0162\n",
      "Epoch 381/500\n",
      " - 0s - loss: 0.0160\n",
      "Epoch 382/500\n",
      " - 0s - loss: 0.0159\n",
      "Epoch 383/500\n",
      " - 0s - loss: 0.0157\n",
      "Epoch 384/500\n",
      " - 0s - loss: 0.0156\n",
      "Epoch 385/500\n",
      " - 0s - loss: 0.0154\n",
      "Epoch 386/500\n",
      " - 0s - loss: 0.0153\n",
      "Epoch 387/500\n",
      " - 0s - loss: 0.0151\n",
      "Epoch 388/500\n",
      " - 0s - loss: 0.0150\n",
      "Epoch 389/500\n",
      " - 0s - loss: 0.0148\n",
      "Epoch 390/500\n",
      " - 0s - loss: 0.0147\n",
      "Epoch 391/500\n",
      " - 0s - loss: 0.0146\n",
      "Epoch 392/500\n",
      " - 0s - loss: 0.0144\n",
      "Epoch 393/500\n",
      " - 0s - loss: 0.0143\n",
      "Epoch 394/500\n",
      " - 0s - loss: 0.0141\n",
      "Epoch 395/500\n",
      " - 0s - loss: 0.0140\n",
      "Epoch 396/500\n",
      " - 0s - loss: 0.0139\n",
      "Epoch 397/500\n",
      " - 0s - loss: 0.0137\n",
      "Epoch 398/500\n",
      " - 0s - loss: 0.0136\n",
      "Epoch 399/500\n",
      " - 0s - loss: 0.0135\n",
      "Epoch 400/500\n",
      " - 0s - loss: 0.0133\n",
      "Epoch 401/500\n",
      " - 0s - loss: 0.0132\n",
      "Epoch 402/500\n",
      " - 0s - loss: 0.0131\n",
      "Epoch 403/500\n",
      " - 0s - loss: 0.0130\n",
      "Epoch 404/500\n",
      " - 0s - loss: 0.0128\n",
      "Epoch 405/500\n",
      " - 0s - loss: 0.0127\n",
      "Epoch 406/500\n",
      " - 0s - loss: 0.0126\n",
      "Epoch 407/500\n",
      " - 0s - loss: 0.0125\n",
      "Epoch 408/500\n",
      " - 0s - loss: 0.0123\n",
      "Epoch 409/500\n",
      " - 0s - loss: 0.0122\n",
      "Epoch 410/500\n",
      " - 0s - loss: 0.0121\n",
      "Epoch 411/500\n",
      " - 0s - loss: 0.0120\n",
      "Epoch 412/500\n",
      " - 0s - loss: 0.0119\n",
      "Epoch 413/500\n",
      " - 0s - loss: 0.0117\n",
      "Epoch 414/500\n",
      " - 0s - loss: 0.0116\n",
      "Epoch 415/500\n",
      " - 0s - loss: 0.0115\n",
      "Epoch 416/500\n",
      " - 0s - loss: 0.0114\n",
      "Epoch 417/500\n",
      " - 0s - loss: 0.0113\n",
      "Epoch 418/500\n",
      " - 0s - loss: 0.0112\n",
      "Epoch 419/500\n",
      " - 0s - loss: 0.0111\n",
      "Epoch 420/500\n",
      " - 0s - loss: 0.0109\n",
      "Epoch 421/500\n",
      " - 0s - loss: 0.0108\n",
      "Epoch 422/500\n",
      " - 0s - loss: 0.0107\n",
      "Epoch 423/500\n",
      " - 0s - loss: 0.0106\n",
      "Epoch 424/500\n",
      " - 0s - loss: 0.0105\n",
      "Epoch 425/500\n",
      " - 0s - loss: 0.0104\n",
      "Epoch 426/500\n",
      " - 0s - loss: 0.0103\n",
      "Epoch 427/500\n",
      " - 0s - loss: 0.0102\n",
      "Epoch 428/500\n",
      " - 0s - loss: 0.0101\n",
      "Epoch 429/500\n",
      " - 0s - loss: 0.0100\n",
      "Epoch 430/500\n",
      " - 0s - loss: 0.0099\n",
      "Epoch 431/500\n",
      " - 0s - loss: 0.0098\n",
      "Epoch 432/500\n",
      " - 0s - loss: 0.0097\n",
      "Epoch 433/500\n",
      " - 0s - loss: 0.0096\n",
      "Epoch 434/500\n",
      " - 0s - loss: 0.0095\n",
      "Epoch 435/500\n",
      " - 0s - loss: 0.0094\n",
      "Epoch 436/500\n",
      " - 0s - loss: 0.0093\n",
      "Epoch 437/500\n",
      " - 0s - loss: 0.0092\n",
      "Epoch 438/500\n",
      " - 0s - loss: 0.0092\n",
      "Epoch 439/500\n",
      " - 0s - loss: 0.0091\n",
      "Epoch 440/500\n",
      " - 0s - loss: 0.0090\n",
      "Epoch 441/500\n",
      " - 0s - loss: 0.0089\n",
      "Epoch 442/500\n",
      " - 0s - loss: 0.0088\n",
      "Epoch 443/500\n",
      " - 0s - loss: 0.0087\n",
      "Epoch 444/500\n",
      " - 0s - loss: 0.0086\n",
      "Epoch 445/500\n",
      " - 0s - loss: 0.0085\n",
      "Epoch 446/500\n",
      " - 0s - loss: 0.0085\n",
      "Epoch 447/500\n",
      " - 0s - loss: 0.0084\n",
      "Epoch 448/500\n",
      " - 0s - loss: 0.0083\n",
      "Epoch 449/500\n",
      " - 0s - loss: 0.0082\n",
      "Epoch 450/500\n",
      " - 0s - loss: 0.0081\n",
      "Epoch 451/500\n",
      " - 0s - loss: 0.0081\n",
      "Epoch 452/500\n",
      " - 0s - loss: 0.0080\n",
      "Epoch 453/500\n",
      " - 0s - loss: 0.0079\n",
      "Epoch 454/500\n",
      " - 0s - loss: 0.0078\n",
      "Epoch 455/500\n",
      " - 0s - loss: 0.0078\n",
      "Epoch 456/500\n",
      " - 0s - loss: 0.0077\n",
      "Epoch 457/500\n",
      " - 0s - loss: 0.0076\n",
      "Epoch 458/500\n",
      " - 0s - loss: 0.0075\n",
      "Epoch 459/500\n",
      " - 0s - loss: 0.0075\n",
      "Epoch 460/500\n",
      " - 0s - loss: 0.0074\n",
      "Epoch 461/500\n",
      " - 0s - loss: 0.0073\n",
      "Epoch 462/500\n",
      " - 0s - loss: 0.0073\n",
      "Epoch 463/500\n",
      " - 0s - loss: 0.0072\n",
      "Epoch 464/500\n",
      " - 0s - loss: 0.0071\n",
      "Epoch 465/500\n",
      " - 0s - loss: 0.0071\n",
      "Epoch 466/500\n",
      " - 0s - loss: 0.0070\n",
      "Epoch 467/500\n",
      " - 0s - loss: 0.0069\n",
      "Epoch 468/500\n",
      " - 0s - loss: 0.0069\n",
      "Epoch 469/500\n",
      " - 0s - loss: 0.0068\n",
      "Epoch 470/500\n",
      " - 0s - loss: 0.0067\n",
      "Epoch 471/500\n",
      " - 0s - loss: 0.0067\n",
      "Epoch 472/500\n",
      " - 0s - loss: 0.0066\n"
     ]
    },
    {
     "name": "stdout",
     "output_type": "stream",
     "text": [
      "Epoch 473/500\n",
      " - 0s - loss: 0.0066\n",
      "Epoch 474/500\n",
      " - 0s - loss: 0.0065\n",
      "Epoch 475/500\n",
      " - 0s - loss: 0.0065\n",
      "Epoch 476/500\n",
      " - 0s - loss: 0.0064\n",
      "Epoch 477/500\n",
      " - 0s - loss: 0.0063\n",
      "Epoch 478/500\n",
      " - 0s - loss: 0.0063\n",
      "Epoch 479/500\n",
      " - 0s - loss: 0.0062\n",
      "Epoch 480/500\n",
      " - 0s - loss: 0.0062\n",
      "Epoch 481/500\n",
      " - 0s - loss: 0.0061\n",
      "Epoch 482/500\n",
      " - 0s - loss: 0.0061\n",
      "Epoch 483/500\n",
      " - 0s - loss: 0.0060\n",
      "Epoch 484/500\n",
      " - 0s - loss: 0.0060\n",
      "Epoch 485/500\n",
      " - 0s - loss: 0.0059\n",
      "Epoch 486/500\n",
      " - 0s - loss: 0.0059\n",
      "Epoch 487/500\n",
      " - 0s - loss: 0.0058\n",
      "Epoch 488/500\n",
      " - 0s - loss: 0.0058\n",
      "Epoch 489/500\n",
      " - 0s - loss: 0.0057\n",
      "Epoch 490/500\n",
      " - 0s - loss: 0.0057\n",
      "Epoch 491/500\n",
      " - 0s - loss: 0.0057\n",
      "Epoch 492/500\n",
      " - 0s - loss: 0.0056\n",
      "Epoch 493/500\n",
      " - 0s - loss: 0.0056\n",
      "Epoch 494/500\n",
      " - 0s - loss: 0.0055\n",
      "Epoch 495/500\n",
      " - 0s - loss: 0.0055\n",
      "Epoch 496/500\n",
      " - 0s - loss: 0.0054\n",
      "Epoch 497/500\n",
      " - 0s - loss: 0.0054\n",
      "Epoch 498/500\n",
      " - 0s - loss: 0.0054\n",
      "Epoch 499/500\n",
      " - 0s - loss: 0.0053\n",
      "Epoch 500/500\n",
      " - 0s - loss: 0.0053\n"
     ]
    },
    {
     "data": {
      "text/plain": [
       "<keras.callbacks.History at 0x7f1b282c6160>"
      ]
     },
     "execution_count": 37,
     "metadata": {},
     "output_type": "execute_result"
    }
   ],
   "source": [
    "model.fit(X, y, batch_size=24, epochs=500, shuffle=False, verbose=2)"
   ]
  },
  {
   "cell_type": "markdown",
   "metadata": {},
   "source": [
    "Prepare test for scoring"
   ]
  },
  {
   "cell_type": "code",
   "execution_count": 38,
   "metadata": {
    "collapsed": true
   },
   "outputs": [],
   "source": [
    "test = milk.copy()\n",
    "\n",
    "scaled_vals, _ = scale_series(test['milk_stat'])\n",
    "test['target'] = scaled_vals\n",
    "test = test[['t', 'target']]\n",
    "\n",
    "for t in range(1, W+1):\n",
    "    test['target_t-'+str(t)] = test['target'].shift(t)\n",
    "    \n",
    "test = test.dropna(how='any')\n",
    "test = test[test.t>=test_start_date]\n",
    "\n",
    "test_y = test.target.values\n",
    "\n",
    "test_X = test.drop(['t', 'target'], axis=1).as_matrix()\n",
    "\n",
    "test_X = test_X.reshape(test_X.shape[0], W, 1)"
   ]
  },
  {
   "cell_type": "code",
   "execution_count": 39,
   "metadata": {},
   "outputs": [
    {
     "data": {
      "text/plain": [
       "(36, 24, 1)"
      ]
     },
     "execution_count": 39,
     "metadata": {},
     "output_type": "execute_result"
    }
   ],
   "source": [
    "test_X.shape"
   ]
  },
  {
   "cell_type": "code",
   "execution_count": 40,
   "metadata": {
    "collapsed": true
   },
   "outputs": [],
   "source": [
    "preds = model.predict(test_X)"
   ]
  },
  {
   "cell_type": "markdown",
   "metadata": {},
   "source": [
    "Evaluate model"
   ]
  },
  {
   "cell_type": "code",
   "execution_count": 41,
   "metadata": {
    "collapsed": true
   },
   "outputs": [],
   "source": [
    "eval_df = test.copy()\n",
    "eval_df = eval_df[['t', 'target']]\n",
    "eval_df['preds'] = preds"
   ]
  },
  {
   "cell_type": "code",
   "execution_count": 42,
   "metadata": {},
   "outputs": [
    {
     "data": {
      "text/html": [
       "<div>\n",
       "<table border=\"1\" class=\"dataframe\">\n",
       "  <thead>\n",
       "    <tr style=\"text-align: right;\">\n",
       "      <th></th>\n",
       "      <th>t</th>\n",
       "      <th>target</th>\n",
       "      <th>preds</th>\n",
       "    </tr>\n",
       "  </thead>\n",
       "  <tbody>\n",
       "    <tr>\n",
       "      <th>132</th>\n",
       "      <td>1973-01-01</td>\n",
       "      <td>0.454023</td>\n",
       "      <td>0.688952</td>\n",
       "    </tr>\n",
       "    <tr>\n",
       "      <th>133</th>\n",
       "      <td>1973-02-01</td>\n",
       "      <td>0.086207</td>\n",
       "      <td>0.056970</td>\n",
       "    </tr>\n",
       "    <tr>\n",
       "      <th>134</th>\n",
       "      <td>1973-03-01</td>\n",
       "      <td>0.994253</td>\n",
       "      <td>0.895781</td>\n",
       "    </tr>\n",
       "    <tr>\n",
       "      <th>135</th>\n",
       "      <td>1973-04-01</td>\n",
       "      <td>0.448276</td>\n",
       "      <td>0.406769</td>\n",
       "    </tr>\n",
       "    <tr>\n",
       "      <th>136</th>\n",
       "      <td>1973-05-01</td>\n",
       "      <td>0.701149</td>\n",
       "      <td>0.674742</td>\n",
       "    </tr>\n",
       "  </tbody>\n",
       "</table>\n",
       "</div>"
      ],
      "text/plain": [
       "             t    target     preds\n",
       "132 1973-01-01  0.454023  0.688952\n",
       "133 1973-02-01  0.086207  0.056970\n",
       "134 1973-03-01  0.994253  0.895781\n",
       "135 1973-04-01  0.448276  0.406769\n",
       "136 1973-05-01  0.701149  0.674742"
      ]
     },
     "execution_count": 42,
     "metadata": {},
     "output_type": "execute_result"
    }
   ],
   "source": [
    "eval_df.head()"
   ]
  },
  {
   "cell_type": "code",
   "execution_count": 43,
   "metadata": {},
   "outputs": [
    {
     "data": {
      "text/plain": [
       "<matplotlib.axes._subplots.AxesSubplot at 0x7f1b282df748>"
      ]
     },
     "execution_count": 43,
     "metadata": {},
     "output_type": "execute_result"
    },
    {
     "data": {
      "image/png": "[encoded data removed]",
      "text/plain": [
       "<matplotlib.figure.Figure at 0x7f1b28452d68>"
      ]
     },
     "metadata": {},
     "output_type": "display_data"
    }
   ],
   "source": [
    "eval_df.plot(x='t', figsize=(15,8))"
   ]
  },
  {
   "cell_type": "code",
   "execution_count": 44,
   "metadata": {},
   "outputs": [
    {
     "name": "stdout",
     "output_type": "stream",
     "text": [
      "36/36 [==============================] - 0s 2ms/step\n"
     ]
    },
    {
     "data": {
      "text/plain": [
       "0.0054321323469695114"
      ]
     },
     "execution_count": 44,
     "metadata": {},
     "output_type": "execute_result"
    }
   ],
   "source": [
    "model.evaluate(test_X, test_y)"
   ]
  },
  {
   "cell_type": "markdown",
   "metadata": {
    "collapsed": true
   },
   "source": [
    "### Time series with additional features"
   ]
  },
  {
   "cell_type": "markdown",
   "metadata": {},
   "source": [
    "Create a disease event, known before the month being predicted. Disease events reduce milk production by 25%"
   ]
  },
  {
   "cell_type": "code",
   "execution_count": 47,
   "metadata": {
    "collapsed": true
   },
   "outputs": [],
   "source": [
    "milk['disease'] = 0\n",
    "test_start_idx = milk[milk.t==test_start_date].index.values\n",
    "np.random.seed(0)\n",
    "# 8 disease events in train set\n",
    "milk.loc[np.random.randint(0, test_start_idx-1, 8), 'disease'] = 1\n",
    "# 3 disease events in test set\n",
    "milk.loc[np.random.randint(test_start_idx, milk.shape[0]-1, 3), 'disease'] = 1\n",
    "# milk production reduces by 25% during disease events\n",
    "milk['milk_disease'] = np.where(milk['disease']==0, milk['milk'], milk['milk']*0.75)"
   ]
  },
  {
   "cell_type": "code",
   "execution_count": 48,
   "metadata": {},
   "outputs": [
    {
     "data": {
      "text/plain": [
       "<matplotlib.axes._subplots.AxesSubplot at 0x7f1b081fbb70>"
      ]
     },
     "execution_count": 48,
     "metadata": {},
     "output_type": "execute_result"
    },
    {
     "data": {
      "image/png": "[encoded data removed]",
      "text/plain": [
       "<matplotlib.figure.Figure at 0x7f1b081ff5f8>"
      ]
     },
     "metadata": {},
     "output_type": "display_data"
    }
   ],
   "source": [
    "milk.plot(x='t',y=['milk', 'milk_disease'], figsize=(15,8))"
   ]
  },
  {
   "cell_type": "code",
   "execution_count": 49,
   "metadata": {
    "collapsed": true
   },
   "outputs": [],
   "source": [
    "milk['milk_disease_stat'] = milk['milk_disease'] - milk['milk_disease'].shift(1)"
   ]
  },
  {
   "cell_type": "code",
   "execution_count": 50,
   "metadata": {
    "collapsed": true
   },
   "outputs": [],
   "source": [
    "milk = milk.dropna(how='any')"
   ]
  },
  {
   "cell_type": "code",
   "execution_count": 51,
   "metadata": {},
   "outputs": [
    {
     "data": {
      "text/plain": [
       "<matplotlib.axes._subplots.AxesSubplot at 0x7f1b081e8b70>"
      ]
     },
     "execution_count": 51,
     "metadata": {},
     "output_type": "execute_result"
    },
    {
     "data": {
      "image/png": "[encoded data removed]",
      "text/plain": [
       "<matplotlib.figure.Figure at 0x7f1b081ec7f0>"
      ]
     },
     "metadata": {},
     "output_type": "display_data"
    }
   ],
   "source": [
    "milk.plot(x='t', y='milk_disease_stat', figsize=(15, 8))"
   ]
  },
  {
   "cell_type": "code",
   "execution_count": 52,
   "metadata": {},
   "outputs": [
    {
     "data": {
      "text/plain": [
       "<matplotlib.axes._subplots.AxesSubplot at 0x7f1b08155828>"
      ]
     },
     "execution_count": 52,
     "metadata": {},
     "output_type": "execute_result"
    },
    {
     "data": {
      "image/png": "[encoded data removed]",
      "text/plain": [
       "<matplotlib.figure.Figure at 0x7f1b08164128>"
      ]
     },
     "metadata": {},
     "output_type": "display_data"
    }
   ],
   "source": [
    "milk.milk_disease_stat.plot.hist(bins=50, figsize=(8, 8))"
   ]
  },
  {
   "cell_type": "code",
   "execution_count": 53,
   "metadata": {},
   "outputs": [],
   "source": [
    "train = milk.copy()\n",
    "train = train[train.t<test_start_date]\n",
    "\n",
    "scaled_vals, minmaxscaler = scale_series(train['milk_disease_stat'])\n",
    "\n",
    "train['target'] = scaled_vals"
   ]
  },
  {
   "cell_type": "code",
   "execution_count": 54,
   "metadata": {},
   "outputs": [
    {
     "data": {
      "text/html": [
       "<div>\n",
       "<table border=\"1\" class=\"dataframe\">\n",
       "  <thead>\n",
       "    <tr style=\"text-align: right;\">\n",
       "      <th></th>\n",
       "      <th>t</th>\n",
       "      <th>milk</th>\n",
       "      <th>milk_stat</th>\n",
       "      <th>disease</th>\n",
       "      <th>milk_disease</th>\n",
       "      <th>milk_disease_stat</th>\n",
       "      <th>target</th>\n",
       "    </tr>\n",
       "  </thead>\n",
       "  <tbody>\n",
       "    <tr>\n",
       "      <th>2</th>\n",
       "      <td>1962-03-01</td>\n",
       "      <td>640.0</td>\n",
       "      <td>79.0</td>\n",
       "      <td>0</td>\n",
       "      <td>640.0</td>\n",
       "      <td>79.0</td>\n",
       "      <td>0.622745</td>\n",
       "    </tr>\n",
       "    <tr>\n",
       "      <th>3</th>\n",
       "      <td>1962-04-01</td>\n",
       "      <td>656.0</td>\n",
       "      <td>16.0</td>\n",
       "      <td>0</td>\n",
       "      <td>656.0</td>\n",
       "      <td>16.0</td>\n",
       "      <td>0.496493</td>\n",
       "    </tr>\n",
       "    <tr>\n",
       "      <th>4</th>\n",
       "      <td>1962-05-01</td>\n",
       "      <td>727.0</td>\n",
       "      <td>71.0</td>\n",
       "      <td>0</td>\n",
       "      <td>727.0</td>\n",
       "      <td>71.0</td>\n",
       "      <td>0.606713</td>\n",
       "    </tr>\n",
       "    <tr>\n",
       "      <th>5</th>\n",
       "      <td>1962-06-01</td>\n",
       "      <td>697.0</td>\n",
       "      <td>-30.0</td>\n",
       "      <td>0</td>\n",
       "      <td>697.0</td>\n",
       "      <td>-30.0</td>\n",
       "      <td>0.404309</td>\n",
       "    </tr>\n",
       "    <tr>\n",
       "      <th>6</th>\n",
       "      <td>1962-07-01</td>\n",
       "      <td>640.0</td>\n",
       "      <td>-57.0</td>\n",
       "      <td>0</td>\n",
       "      <td>640.0</td>\n",
       "      <td>-57.0</td>\n",
       "      <td>0.350200</td>\n",
       "    </tr>\n",
       "  </tbody>\n",
       "</table>\n",
       "</div>"
      ],
      "text/plain": [
       "           t   milk  milk_stat  disease  milk_disease  milk_disease_stat  \\\n",
       "2 1962-03-01  640.0       79.0        0         640.0               79.0   \n",
       "3 1962-04-01  656.0       16.0        0         656.0               16.0   \n",
       "4 1962-05-01  727.0       71.0        0         727.0               71.0   \n",
       "5 1962-06-01  697.0      -30.0        0         697.0              -30.0   \n",
       "6 1962-07-01  640.0      -57.0        0         640.0              -57.0   \n",
       "\n",
       "     target  \n",
       "2  0.622745  \n",
       "3  0.496493  \n",
       "4  0.606713  \n",
       "5  0.404309  \n",
       "6  0.350200  "
      ]
     },
     "execution_count": 54,
     "metadata": {},
     "output_type": "execute_result"
    }
   ],
   "source": [
    "train.head()"
   ]
  },
  {
   "cell_type": "markdown",
   "metadata": {
    "collapsed": true
   },
   "source": [
    "Prepare normalized data for model"
   ]
  },
  {
   "cell_type": "code",
   "execution_count": 55,
   "metadata": {
    "collapsed": true
   },
   "outputs": [],
   "source": [
    "train = train[['target', 'disease']]"
   ]
  },
  {
   "cell_type": "markdown",
   "metadata": {},
   "source": [
    "Define time steps window"
   ]
  },
  {
   "cell_type": "code",
   "execution_count": 56,
   "metadata": {
    "collapsed": true
   },
   "outputs": [],
   "source": [
    "W = 24"
   ]
  },
  {
   "cell_type": "code",
   "execution_count": 57,
   "metadata": {
    "collapsed": true
   },
   "outputs": [],
   "source": [
    "for t in range(1, W+1):\n",
    "    train['target_t-'+str(t)] = train['target'].shift(t)"
   ]
  },
  {
   "cell_type": "code",
   "execution_count": 58,
   "metadata": {},
   "outputs": [
    {
     "data": {
      "text/html": [
       "<div>\n",
       "<table border=\"1\" class=\"dataframe\">\n",
       "  <thead>\n",
       "    <tr style=\"text-align: right;\">\n",
       "      <th></th>\n",
       "      <th>target</th>\n",
       "      <th>disease</th>\n",
       "      <th>target_t-1</th>\n",
       "      <th>target_t-2</th>\n",
       "      <th>target_t-3</th>\n",
       "      <th>target_t-4</th>\n",
       "      <th>target_t-5</th>\n",
       "      <th>target_t-6</th>\n",
       "      <th>target_t-7</th>\n",
       "      <th>target_t-8</th>\n",
       "      <th>...</th>\n",
       "      <th>target_t-15</th>\n",
       "      <th>target_t-16</th>\n",
       "      <th>target_t-17</th>\n",
       "      <th>target_t-18</th>\n",
       "      <th>target_t-19</th>\n",
       "      <th>target_t-20</th>\n",
       "      <th>target_t-21</th>\n",
       "      <th>target_t-22</th>\n",
       "      <th>target_t-23</th>\n",
       "      <th>target_t-24</th>\n",
       "    </tr>\n",
       "  </thead>\n",
       "  <tbody>\n",
       "    <tr>\n",
       "      <th>2</th>\n",
       "      <td>0.622745</td>\n",
       "      <td>0</td>\n",
       "      <td>NaN</td>\n",
       "      <td>NaN</td>\n",
       "      <td>NaN</td>\n",
       "      <td>NaN</td>\n",
       "      <td>NaN</td>\n",
       "      <td>NaN</td>\n",
       "      <td>NaN</td>\n",
       "      <td>NaN</td>\n",
       "      <td>...</td>\n",
       "      <td>NaN</td>\n",
       "      <td>NaN</td>\n",
       "      <td>NaN</td>\n",
       "      <td>NaN</td>\n",
       "      <td>NaN</td>\n",
       "      <td>NaN</td>\n",
       "      <td>NaN</td>\n",
       "      <td>NaN</td>\n",
       "      <td>NaN</td>\n",
       "      <td>NaN</td>\n",
       "    </tr>\n",
       "    <tr>\n",
       "      <th>3</th>\n",
       "      <td>0.496493</td>\n",
       "      <td>0</td>\n",
       "      <td>0.622745</td>\n",
       "      <td>NaN</td>\n",
       "      <td>NaN</td>\n",
       "      <td>NaN</td>\n",
       "      <td>NaN</td>\n",
       "      <td>NaN</td>\n",
       "      <td>NaN</td>\n",
       "      <td>NaN</td>\n",
       "      <td>...</td>\n",
       "      <td>NaN</td>\n",
       "      <td>NaN</td>\n",
       "      <td>NaN</td>\n",
       "      <td>NaN</td>\n",
       "      <td>NaN</td>\n",
       "      <td>NaN</td>\n",
       "      <td>NaN</td>\n",
       "      <td>NaN</td>\n",
       "      <td>NaN</td>\n",
       "      <td>NaN</td>\n",
       "    </tr>\n",
       "    <tr>\n",
       "      <th>4</th>\n",
       "      <td>0.606713</td>\n",
       "      <td>0</td>\n",
       "      <td>0.496493</td>\n",
       "      <td>0.622745</td>\n",
       "      <td>NaN</td>\n",
       "      <td>NaN</td>\n",
       "      <td>NaN</td>\n",
       "      <td>NaN</td>\n",
       "      <td>NaN</td>\n",
       "      <td>NaN</td>\n",
       "      <td>...</td>\n",
       "      <td>NaN</td>\n",
       "      <td>NaN</td>\n",
       "      <td>NaN</td>\n",
       "      <td>NaN</td>\n",
       "      <td>NaN</td>\n",
       "      <td>NaN</td>\n",
       "      <td>NaN</td>\n",
       "      <td>NaN</td>\n",
       "      <td>NaN</td>\n",
       "      <td>NaN</td>\n",
       "    </tr>\n",
       "    <tr>\n",
       "      <th>5</th>\n",
       "      <td>0.404309</td>\n",
       "      <td>0</td>\n",
       "      <td>0.606713</td>\n",
       "      <td>0.496493</td>\n",
       "      <td>0.622745</td>\n",
       "      <td>NaN</td>\n",
       "      <td>NaN</td>\n",
       "      <td>NaN</td>\n",
       "      <td>NaN</td>\n",
       "      <td>NaN</td>\n",
       "      <td>...</td>\n",
       "      <td>NaN</td>\n",
       "      <td>NaN</td>\n",
       "      <td>NaN</td>\n",
       "      <td>NaN</td>\n",
       "      <td>NaN</td>\n",
       "      <td>NaN</td>\n",
       "      <td>NaN</td>\n",
       "      <td>NaN</td>\n",
       "      <td>NaN</td>\n",
       "      <td>NaN</td>\n",
       "    </tr>\n",
       "    <tr>\n",
       "      <th>6</th>\n",
       "      <td>0.350200</td>\n",
       "      <td>0</td>\n",
       "      <td>0.404309</td>\n",
       "      <td>0.606713</td>\n",
       "      <td>0.496493</td>\n",
       "      <td>0.622745</td>\n",
       "      <td>NaN</td>\n",
       "      <td>NaN</td>\n",
       "      <td>NaN</td>\n",
       "      <td>NaN</td>\n",
       "      <td>...</td>\n",
       "      <td>NaN</td>\n",
       "      <td>NaN</td>\n",
       "      <td>NaN</td>\n",
       "      <td>NaN</td>\n",
       "      <td>NaN</td>\n",
       "      <td>NaN</td>\n",
       "      <td>NaN</td>\n",
       "      <td>NaN</td>\n",
       "      <td>NaN</td>\n",
       "      <td>NaN</td>\n",
       "    </tr>\n",
       "  </tbody>\n",
       "</table>\n",
       "<p>5 rows × 26 columns</p>\n",
       "</div>"
      ],
      "text/plain": [
       "     target  disease  target_t-1  target_t-2  target_t-3  target_t-4  \\\n",
       "2  0.622745        0         NaN         NaN         NaN         NaN   \n",
       "3  0.496493        0    0.622745         NaN         NaN         NaN   \n",
       "4  0.606713        0    0.496493    0.622745         NaN         NaN   \n",
       "5  0.404309        0    0.606713    0.496493    0.622745         NaN   \n",
       "6  0.350200        0    0.404309    0.606713    0.496493    0.622745   \n",
       "\n",
       "   target_t-5  target_t-6  target_t-7  target_t-8     ...       target_t-15  \\\n",
       "2         NaN         NaN         NaN         NaN     ...               NaN   \n",
       "3         NaN         NaN         NaN         NaN     ...               NaN   \n",
       "4         NaN         NaN         NaN         NaN     ...               NaN   \n",
       "5         NaN         NaN         NaN         NaN     ...               NaN   \n",
       "6         NaN         NaN         NaN         NaN     ...               NaN   \n",
       "\n",
       "   target_t-16  target_t-17  target_t-18  target_t-19  target_t-20  \\\n",
       "2          NaN          NaN          NaN          NaN          NaN   \n",
       "3          NaN          NaN          NaN          NaN          NaN   \n",
       "4          NaN          NaN          NaN          NaN          NaN   \n",
       "5          NaN          NaN          NaN          NaN          NaN   \n",
       "6          NaN          NaN          NaN          NaN          NaN   \n",
       "\n",
       "   target_t-21  target_t-22  target_t-23  target_t-24  \n",
       "2          NaN          NaN          NaN          NaN  \n",
       "3          NaN          NaN          NaN          NaN  \n",
       "4          NaN          NaN          NaN          NaN  \n",
       "5          NaN          NaN          NaN          NaN  \n",
       "6          NaN          NaN          NaN          NaN  \n",
       "\n",
       "[5 rows x 26 columns]"
      ]
     },
     "execution_count": 58,
     "metadata": {},
     "output_type": "execute_result"
    }
   ],
   "source": [
    "train.head()"
   ]
  },
  {
   "cell_type": "code",
   "execution_count": 59,
   "metadata": {
    "collapsed": true
   },
   "outputs": [],
   "source": [
    "# drop records with NaN\n",
    "train = train.dropna(how='any')"
   ]
  },
  {
   "cell_type": "code",
   "execution_count": 60,
   "metadata": {
    "collapsed": true
   },
   "outputs": [],
   "source": [
    "y = train['target'].values"
   ]
  },
  {
   "cell_type": "code",
   "execution_count": 61,
   "metadata": {},
   "outputs": [
    {
     "data": {
      "text/plain": [
       "(106,)"
      ]
     },
     "execution_count": 61,
     "metadata": {},
     "output_type": "execute_result"
    }
   ],
   "source": [
    "y.shape"
   ]
  },
  {
   "cell_type": "code",
   "execution_count": 62,
   "metadata": {},
   "outputs": [
    {
     "data": {
      "text/plain": [
       "array([ 0.60470942,  0.49849699,  0.59468938,  0.39629259,  0.34819639])"
      ]
     },
     "execution_count": 62,
     "metadata": {},
     "output_type": "execute_result"
    }
   ],
   "source": [
    "y[:5]"
   ]
  },
  {
   "cell_type": "markdown",
   "metadata": {},
   "source": [
    "Create 2 sets of input features, one for the time series sequence (window 24), and the other the categorical feature representing disease events"
   ]
  },
  {
   "cell_type": "code",
   "execution_count": 65,
   "metadata": {
    "collapsed": true
   },
   "outputs": [],
   "source": [
    "X_sequence = train.drop(labels=['target', 'disease'], axis=1).as_matrix()"
   ]
  },
  {
   "cell_type": "code",
   "execution_count": 66,
   "metadata": {
    "collapsed": true
   },
   "outputs": [],
   "source": [
    "X_sequence = X_sequence.reshape(X_sequence.shape[0], W, 1)"
   ]
  },
  {
   "cell_type": "code",
   "execution_count": 67,
   "metadata": {},
   "outputs": [
    {
     "data": {
      "text/plain": [
       "(106, 24, 1)"
      ]
     },
     "execution_count": 67,
     "metadata": {},
     "output_type": "execute_result"
    }
   ],
   "source": [
    "X_sequence.shape"
   ]
  },
  {
   "cell_type": "markdown",
   "metadata": {},
   "source": [
    "First 2 X_sequence training examples"
   ]
  },
  {
   "cell_type": "code",
   "execution_count": 68,
   "metadata": {},
   "outputs": [
    {
     "data": {
      "text/plain": [
       "array([[[ 0.44438878],\n",
       "        [ 0.5245491 ],\n",
       "        [ 0.53056112],\n",
       "        [ 0.71442886],\n",
       "        [ 0.17835671],\n",
       "        [ 0.39629259],\n",
       "        [ 0.37825651],\n",
       "        [ 0.35220441],\n",
       "        [ 0.41232465],\n",
       "        [ 0.60270541],\n",
       "        [ 0.50450902],\n",
       "        [ 0.63877756],\n",
       "        [ 0.39629259],\n",
       "        [ 0.500501  ],\n",
       "        [ 0.52254509],\n",
       "        [ 0.70541082],\n",
       "        [ 0.19338677],\n",
       "        [ 0.40230461],\n",
       "        [ 0.38226453],\n",
       "        [ 0.3502004 ],\n",
       "        [ 0.40430862],\n",
       "        [ 0.60671343],\n",
       "        [ 0.49649299],\n",
       "        [ 0.62274549]],\n",
       "\n",
       "       [[ 0.60470942],\n",
       "        [ 0.44438878],\n",
       "        [ 0.5245491 ],\n",
       "        [ 0.53056112],\n",
       "        [ 0.71442886],\n",
       "        [ 0.17835671],\n",
       "        [ 0.39629259],\n",
       "        [ 0.37825651],\n",
       "        [ 0.35220441],\n",
       "        [ 0.41232465],\n",
       "        [ 0.60270541],\n",
       "        [ 0.50450902],\n",
       "        [ 0.63877756],\n",
       "        [ 0.39629259],\n",
       "        [ 0.500501  ],\n",
       "        [ 0.52254509],\n",
       "        [ 0.70541082],\n",
       "        [ 0.19338677],\n",
       "        [ 0.40230461],\n",
       "        [ 0.38226453],\n",
       "        [ 0.3502004 ],\n",
       "        [ 0.40430862],\n",
       "        [ 0.60671343],\n",
       "        [ 0.49649299]]])"
      ]
     },
     "execution_count": 68,
     "metadata": {},
     "output_type": "execute_result"
    }
   ],
   "source": [
    "X_sequence[:2,:,:]"
   ]
  },
  {
   "cell_type": "code",
   "execution_count": 69,
   "metadata": {
    "collapsed": true
   },
   "outputs": [],
   "source": [
    "X_features = train['disease']"
   ]
  },
  {
   "cell_type": "markdown",
   "metadata": {
    "collapsed": true
   },
   "source": [
    "First 2 X_features training examples"
   ]
  },
  {
   "cell_type": "code",
   "execution_count": 70,
   "metadata": {},
   "outputs": [
    {
     "data": {
      "text/plain": [
       "26    0\n",
       "27    0\n",
       "Name: disease, dtype: int64"
      ]
     },
     "execution_count": 70,
     "metadata": {},
     "output_type": "execute_result"
    }
   ],
   "source": [
    "X_features[:2]"
   ]
  },
  {
   "cell_type": "code",
   "execution_count": 71,
   "metadata": {},
   "outputs": [
    {
     "data": {
      "text/plain": [
       "(106,)"
      ]
     },
     "execution_count": 71,
     "metadata": {},
     "output_type": "execute_result"
    }
   ],
   "source": [
    "X_features.shape"
   ]
  },
  {
   "cell_type": "code",
   "execution_count": 72,
   "metadata": {
    "collapsed": true
   },
   "outputs": [],
   "source": [
    "# specify LSTM layer and it's sequential input\n",
    "input_sequence = Input(shape=(W, 1))\n",
    "\n",
    "seq_layer = LSTM(2)(input_sequence)"
   ]
  },
  {
   "cell_type": "code",
   "execution_count": 73,
   "metadata": {
    "collapsed": true
   },
   "outputs": [],
   "source": [
    "# specify dense layer with sigmoid activation and it's categorical input\n",
    "input_features = Input(shape=(1,))\n",
    "\n",
    "feat_layer = Dense(1, activation='relu')(input_features)"
   ]
  },
  {
   "cell_type": "code",
   "execution_count": 74,
   "metadata": {
    "collapsed": true
   },
   "outputs": [],
   "source": [
    "# combine input dense and LSTM layers\n",
    "combined = Concatenate()([seq_layer, feat_layer])"
   ]
  },
  {
   "cell_type": "code",
   "execution_count": 75,
   "metadata": {
    "collapsed": true
   },
   "outputs": [],
   "source": [
    "# stack some fully connected layers on top, finishing with an output layer with linear activation to actually make the prediction\n",
    "dense1 = Dense(50, activation='relu')(combined)\n",
    "dense2 = Dense(50, activation='relu')(dense1)\n",
    "\n",
    "output = Dense(1, activation='linear')(dense2)"
   ]
  },
  {
   "cell_type": "code",
   "execution_count": 76,
   "metadata": {
    "collapsed": true
   },
   "outputs": [],
   "source": [
    "model = Model(inputs=[input_sequence, input_features], outputs=output)"
   ]
  },
  {
   "cell_type": "code",
   "execution_count": 77,
   "metadata": {
    "collapsed": true
   },
   "outputs": [],
   "source": [
    "model.compile(optimizer='adam', loss='mse')"
   ]
  },
  {
   "cell_type": "code",
   "execution_count": 78,
   "metadata": {},
   "outputs": [
    {
     "name": "stdout",
     "output_type": "stream",
     "text": [
      "__________________________________________________________________________________________________\n",
      "Layer (type)                    Output Shape         Param #     Connected to                     \n",
      "==================================================================================================\n",
      "input_1 (InputLayer)            (None, 24, 1)        0                                            \n",
      "__________________________________________________________________________________________________\n",
      "input_2 (InputLayer)            (None, 1)            0                                            \n",
      "__________________________________________________________________________________________________\n",
      "lstm_2 (LSTM)                   (None, 2)            32          input_1[0][0]                    \n",
      "__________________________________________________________________________________________________\n",
      "dense_2 (Dense)                 (None, 1)            2           input_2[0][0]                    \n",
      "__________________________________________________________________________________________________\n",
      "concatenate_1 (Concatenate)     (None, 3)            0           lstm_2[0][0]                     \n",
      "                                                                 dense_2[0][0]                    \n",
      "__________________________________________________________________________________________________\n",
      "dense_3 (Dense)                 (None, 50)           200         concatenate_1[0][0]              \n",
      "__________________________________________________________________________________________________\n",
      "dense_4 (Dense)                 (None, 50)           2550        dense_3[0][0]                    \n",
      "__________________________________________________________________________________________________\n",
      "dense_5 (Dense)                 (None, 1)            51          dense_4[0][0]                    \n",
      "==================================================================================================\n",
      "Total params: 2,835\n",
      "Trainable params: 2,835\n",
      "Non-trainable params: 0\n",
      "__________________________________________________________________________________________________\n"
     ]
    }
   ],
   "source": [
    "model.summary()"
   ]
  },
  {
   "cell_type": "code",
   "execution_count": 79,
   "metadata": {},
   "outputs": [
    {
     "name": "stdout",
     "output_type": "stream",
     "text": [
      "Epoch 1/500\n",
      " - 1s - loss: 0.2009\n",
      "Epoch 2/500\n",
      " - 0s - loss: 0.1544\n",
      "Epoch 3/500\n",
      " - 0s - loss: 0.1148\n",
      "Epoch 4/500\n",
      " - 0s - loss: 0.0814\n",
      "Epoch 5/500\n",
      " - 0s - loss: 0.0541\n",
      "Epoch 6/500\n",
      " - 0s - loss: 0.0345\n",
      "Epoch 7/500\n",
      " - 0s - loss: 0.0238\n",
      "Epoch 8/500\n",
      " - 0s - loss: 0.0202\n",
      "Epoch 9/500\n",
      " - 0s - loss: 0.0199\n",
      "Epoch 10/500\n",
      " - 0s - loss: 0.0198\n",
      "Epoch 11/500\n",
      " - 0s - loss: 0.0189\n",
      "Epoch 12/500\n",
      " - 0s - loss: 0.0181\n",
      "Epoch 13/500\n",
      " - 0s - loss: 0.0178\n",
      "Epoch 14/500\n",
      " - 0s - loss: 0.0175\n",
      "Epoch 15/500\n",
      " - 0s - loss: 0.0171\n",
      "Epoch 16/500\n",
      " - 0s - loss: 0.0167\n",
      "Epoch 17/500\n",
      " - 0s - loss: 0.0164\n",
      "Epoch 18/500\n",
      " - 0s - loss: 0.0159\n",
      "Epoch 19/500\n",
      " - 0s - loss: 0.0154\n",
      "Epoch 20/500\n",
      " - 0s - loss: 0.0151\n",
      "Epoch 21/500\n",
      " - 0s - loss: 0.0148\n",
      "Epoch 22/500\n",
      " - 0s - loss: 0.0143\n",
      "Epoch 23/500\n",
      " - 0s - loss: 0.0142\n",
      "Epoch 24/500\n",
      " - 0s - loss: 0.0142\n",
      "Epoch 25/500\n",
      " - 0s - loss: 0.0138\n",
      "Epoch 26/500\n",
      " - 0s - loss: 0.0139\n",
      "Epoch 27/500\n",
      " - 0s - loss: 0.0137\n",
      "Epoch 28/500\n",
      " - 0s - loss: 0.0138\n",
      "Epoch 29/500\n",
      " - 0s - loss: 0.0139\n",
      "Epoch 30/500\n",
      " - 0s - loss: 0.0137\n",
      "Epoch 31/500\n",
      " - 0s - loss: 0.0135\n",
      "Epoch 32/500\n",
      " - 0s - loss: 0.0138\n",
      "Epoch 33/500\n",
      " - 0s - loss: 0.0137\n",
      "Epoch 34/500\n",
      " - 0s - loss: 0.0135\n",
      "Epoch 35/500\n",
      " - 0s - loss: 0.0135\n",
      "Epoch 36/500\n",
      " - 0s - loss: 0.0135\n",
      "Epoch 37/500\n",
      " - 0s - loss: 0.0135\n",
      "Epoch 38/500\n",
      " - 0s - loss: 0.0134\n",
      "Epoch 39/500\n",
      " - 0s - loss: 0.0136\n",
      "Epoch 40/500\n",
      " - 0s - loss: 0.0134\n",
      "Epoch 41/500\n",
      " - 0s - loss: 0.0134\n",
      "Epoch 42/500\n",
      " - 0s - loss: 0.0134\n",
      "Epoch 43/500\n",
      " - 0s - loss: 0.0134\n",
      "Epoch 44/500\n",
      " - 0s - loss: 0.0135\n",
      "Epoch 45/500\n",
      " - 0s - loss: 0.0134\n",
      "Epoch 46/500\n",
      " - 0s - loss: 0.0133\n",
      "Epoch 47/500\n",
      " - 0s - loss: 0.0134\n",
      "Epoch 48/500\n",
      " - 0s - loss: 0.0134\n",
      "Epoch 49/500\n",
      " - 0s - loss: 0.0133\n",
      "Epoch 50/500\n",
      " - 0s - loss: 0.0133\n",
      "Epoch 51/500\n",
      " - 0s - loss: 0.0133\n",
      "Epoch 52/500\n",
      " - 0s - loss: 0.0133\n",
      "Epoch 53/500\n",
      " - 0s - loss: 0.0132\n",
      "Epoch 54/500\n",
      " - 0s - loss: 0.0132\n",
      "Epoch 55/500\n",
      " - 0s - loss: 0.0132\n",
      "Epoch 56/500\n",
      " - 0s - loss: 0.0132\n",
      "Epoch 57/500\n",
      " - 0s - loss: 0.0132\n",
      "Epoch 58/500\n",
      " - 0s - loss: 0.0132\n",
      "Epoch 59/500\n",
      " - 0s - loss: 0.0132\n",
      "Epoch 60/500\n",
      " - 0s - loss: 0.0130\n",
      "Epoch 61/500\n",
      " - 0s - loss: 0.0132\n",
      "Epoch 62/500\n",
      " - 0s - loss: 0.0132\n",
      "Epoch 63/500\n",
      " - 0s - loss: 0.0131\n",
      "Epoch 64/500\n",
      " - 0s - loss: 0.0131\n",
      "Epoch 65/500\n",
      " - 0s - loss: 0.0131\n",
      "Epoch 66/500\n",
      " - 0s - loss: 0.0131\n",
      "Epoch 67/500\n",
      " - 0s - loss: 0.0131\n",
      "Epoch 68/500\n",
      " - 0s - loss: 0.0130\n",
      "Epoch 69/500\n",
      " - 0s - loss: 0.0131\n",
      "Epoch 70/500\n",
      " - 0s - loss: 0.0130\n",
      "Epoch 71/500\n",
      " - 0s - loss: 0.0130\n",
      "Epoch 72/500\n",
      " - 0s - loss: 0.0130\n",
      "Epoch 73/500\n",
      " - 0s - loss: 0.0130\n",
      "Epoch 74/500\n",
      " - 0s - loss: 0.0129\n",
      "Epoch 75/500\n",
      " - 0s - loss: 0.0129\n",
      "Epoch 76/500\n",
      " - 0s - loss: 0.0129\n",
      "Epoch 77/500\n",
      " - 0s - loss: 0.0129\n",
      "Epoch 78/500\n",
      " - 0s - loss: 0.0129\n",
      "Epoch 79/500\n",
      " - 0s - loss: 0.0129\n",
      "Epoch 80/500\n",
      " - 0s - loss: 0.0128\n",
      "Epoch 81/500\n",
      " - 0s - loss: 0.0129\n",
      "Epoch 82/500\n",
      " - 0s - loss: 0.0128\n",
      "Epoch 83/500\n",
      " - 0s - loss: 0.0134\n",
      "Epoch 84/500\n",
      " - 0s - loss: 0.0129\n",
      "Epoch 85/500\n",
      " - 0s - loss: 0.0129\n",
      "Epoch 86/500\n",
      " - 0s - loss: 0.0128\n",
      "Epoch 87/500\n",
      " - 0s - loss: 0.0128\n",
      "Epoch 88/500\n",
      " - 0s - loss: 0.0128\n",
      "Epoch 89/500\n",
      " - 0s - loss: 0.0127\n",
      "Epoch 90/500\n",
      " - 0s - loss: 0.0129\n",
      "Epoch 91/500\n",
      " - 0s - loss: 0.0127\n",
      "Epoch 92/500\n",
      " - 0s - loss: 0.0128\n",
      "Epoch 93/500\n",
      " - 0s - loss: 0.0127\n",
      "Epoch 94/500\n",
      " - 0s - loss: 0.0126\n",
      "Epoch 95/500\n",
      " - 0s - loss: 0.0126\n",
      "Epoch 96/500\n",
      " - 0s - loss: 0.0126\n",
      "Epoch 97/500\n",
      " - 0s - loss: 0.0127\n",
      "Epoch 98/500\n",
      " - 0s - loss: 0.0126\n",
      "Epoch 99/500\n",
      " - 0s - loss: 0.0127\n",
      "Epoch 100/500\n",
      " - 0s - loss: 0.0127\n",
      "Epoch 101/500\n",
      " - 0s - loss: 0.0126\n",
      "Epoch 102/500\n",
      " - 0s - loss: 0.0126\n",
      "Epoch 103/500\n",
      " - 0s - loss: 0.0126\n",
      "Epoch 104/500\n",
      " - 0s - loss: 0.0126\n",
      "Epoch 105/500\n",
      " - 0s - loss: 0.0125\n",
      "Epoch 106/500\n",
      " - 0s - loss: 0.0126\n",
      "Epoch 107/500\n",
      " - 0s - loss: 0.0126\n",
      "Epoch 108/500\n",
      " - 0s - loss: 0.0125\n",
      "Epoch 109/500\n",
      " - 0s - loss: 0.0125\n",
      "Epoch 110/500\n",
      " - 0s - loss: 0.0125\n",
      "Epoch 111/500\n",
      " - 0s - loss: 0.0124\n",
      "Epoch 112/500\n",
      " - 0s - loss: 0.0125\n",
      "Epoch 113/500\n",
      " - 0s - loss: 0.0126\n",
      "Epoch 114/500\n",
      " - 0s - loss: 0.0125\n",
      "Epoch 115/500\n",
      " - 0s - loss: 0.0125\n",
      "Epoch 116/500\n",
      " - 0s - loss: 0.0124\n",
      "Epoch 117/500\n",
      " - 0s - loss: 0.0125\n",
      "Epoch 118/500\n",
      " - 0s - loss: 0.0124\n",
      "Epoch 119/500\n",
      " - 0s - loss: 0.0124\n",
      "Epoch 120/500\n",
      " - 0s - loss: 0.0123\n",
      "Epoch 121/500\n",
      " - 0s - loss: 0.0125\n",
      "Epoch 122/500\n",
      " - 0s - loss: 0.0125\n",
      "Epoch 123/500\n",
      " - 0s - loss: 0.0124\n",
      "Epoch 124/500\n",
      " - 0s - loss: 0.0124\n",
      "Epoch 125/500\n",
      " - 0s - loss: 0.0124\n",
      "Epoch 126/500\n",
      " - 0s - loss: 0.0123\n",
      "Epoch 127/500\n",
      " - 0s - loss: 0.0124\n",
      "Epoch 128/500\n",
      " - 0s - loss: 0.0124\n",
      "Epoch 129/500\n",
      " - 0s - loss: 0.0123\n",
      "Epoch 130/500\n",
      " - 0s - loss: 0.0123\n",
      "Epoch 131/500\n",
      " - 0s - loss: 0.0123\n",
      "Epoch 132/500\n",
      " - 0s - loss: 0.0123\n",
      "Epoch 133/500\n",
      " - 0s - loss: 0.0123\n",
      "Epoch 134/500\n",
      " - 0s - loss: 0.0124\n",
      "Epoch 135/500\n",
      " - 0s - loss: 0.0124\n",
      "Epoch 136/500\n",
      " - 0s - loss: 0.0122\n",
      "Epoch 137/500\n",
      " - 0s - loss: 0.0123\n",
      "Epoch 138/500\n",
      " - 0s - loss: 0.0123\n",
      "Epoch 139/500\n",
      " - 0s - loss: 0.0122\n",
      "Epoch 140/500\n",
      " - 0s - loss: 0.0122\n",
      "Epoch 141/500\n",
      " - 0s - loss: 0.0123\n",
      "Epoch 142/500\n",
      " - 0s - loss: 0.0122\n",
      "Epoch 143/500\n",
      " - 0s - loss: 0.0122\n",
      "Epoch 144/500\n",
      " - 0s - loss: 0.0123\n",
      "Epoch 145/500\n",
      " - 0s - loss: 0.0123\n",
      "Epoch 146/500\n",
      " - 0s - loss: 0.0122\n",
      "Epoch 147/500\n",
      " - 0s - loss: 0.0124\n",
      "Epoch 148/500\n",
      " - 0s - loss: 0.0124\n",
      "Epoch 149/500\n",
      " - 0s - loss: 0.0121\n",
      "Epoch 150/500\n",
      " - 0s - loss: 0.0123\n",
      "Epoch 151/500\n",
      " - 0s - loss: 0.0122\n",
      "Epoch 152/500\n",
      " - 0s - loss: 0.0122\n",
      "Epoch 153/500\n",
      " - 0s - loss: 0.0123\n",
      "Epoch 154/500\n",
      " - 0s - loss: 0.0125\n",
      "Epoch 155/500\n",
      " - 0s - loss: 0.0122\n",
      "Epoch 156/500\n",
      " - 0s - loss: 0.0123\n",
      "Epoch 157/500\n",
      " - 0s - loss: 0.0124\n",
      "Epoch 158/500\n",
      " - 0s - loss: 0.0121\n",
      "Epoch 159/500\n",
      " - 0s - loss: 0.0122\n",
      "Epoch 160/500\n",
      " - 0s - loss: 0.0123\n",
      "Epoch 161/500\n",
      " - 0s - loss: 0.0122\n",
      "Epoch 162/500\n",
      " - 0s - loss: 0.0122\n",
      "Epoch 163/500\n",
      " - 0s - loss: 0.0122\n",
      "Epoch 164/500\n",
      " - 0s - loss: 0.0121\n",
      "Epoch 165/500\n",
      " - 0s - loss: 0.0121\n",
      "Epoch 166/500\n",
      " - 0s - loss: 0.0122\n",
      "Epoch 167/500\n",
      " - 0s - loss: 0.0121\n",
      "Epoch 168/500\n",
      " - 0s - loss: 0.0121\n",
      "Epoch 169/500\n",
      " - 0s - loss: 0.0122\n",
      "Epoch 170/500\n",
      " - 0s - loss: 0.0121\n",
      "Epoch 171/500\n",
      " - 0s - loss: 0.0121\n",
      "Epoch 172/500\n",
      " - 0s - loss: 0.0121\n",
      "Epoch 173/500\n",
      " - 0s - loss: 0.0121\n",
      "Epoch 174/500\n",
      " - 0s - loss: 0.0120\n",
      "Epoch 175/500\n",
      " - 0s - loss: 0.0120\n",
      "Epoch 176/500\n",
      " - 0s - loss: 0.0120\n",
      "Epoch 177/500\n",
      " - 0s - loss: 0.0121\n",
      "Epoch 178/500\n",
      " - 0s - loss: 0.0119\n",
      "Epoch 179/500\n",
      " - 0s - loss: 0.0121\n",
      "Epoch 180/500\n",
      " - 0s - loss: 0.0120\n",
      "Epoch 181/500\n",
      " - 0s - loss: 0.0122\n",
      "Epoch 182/500\n",
      " - 0s - loss: 0.0122\n",
      "Epoch 183/500\n",
      " - 0s - loss: 0.0122\n",
      "Epoch 184/500\n",
      " - 0s - loss: 0.0120\n",
      "Epoch 185/500\n",
      " - 0s - loss: 0.0120\n",
      "Epoch 186/500\n",
      " - 0s - loss: 0.0120\n",
      "Epoch 187/500\n",
      " - 0s - loss: 0.0119\n",
      "Epoch 188/500\n",
      " - 0s - loss: 0.0119\n",
      "Epoch 189/500\n",
      " - 0s - loss: 0.0120\n",
      "Epoch 190/500\n",
      " - 0s - loss: 0.0120\n",
      "Epoch 191/500\n",
      " - 0s - loss: 0.0120\n",
      "Epoch 192/500\n",
      " - 0s - loss: 0.0121\n",
      "Epoch 193/500\n",
      " - 0s - loss: 0.0119\n",
      "Epoch 194/500\n",
      " - 0s - loss: 0.0120\n",
      "Epoch 195/500\n",
      " - 0s - loss: 0.0119\n",
      "Epoch 196/500\n",
      " - 0s - loss: 0.0119\n",
      "Epoch 197/500\n",
      " - 0s - loss: 0.0119\n",
      "Epoch 198/500\n",
      " - 0s - loss: 0.0119\n",
      "Epoch 199/500\n",
      " - 0s - loss: 0.0120\n",
      "Epoch 200/500\n",
      " - 0s - loss: 0.0119\n",
      "Epoch 201/500\n",
      " - 0s - loss: 0.0119\n",
      "Epoch 202/500\n",
      " - 0s - loss: 0.0118\n",
      "Epoch 203/500\n",
      " - 0s - loss: 0.0121\n",
      "Epoch 204/500\n",
      " - 0s - loss: 0.0121\n",
      "Epoch 205/500\n",
      " - 0s - loss: 0.0122\n",
      "Epoch 206/500\n",
      " - 0s - loss: 0.0118\n",
      "Epoch 207/500\n",
      " - 0s - loss: 0.0119\n",
      "Epoch 208/500\n",
      " - 0s - loss: 0.0119\n",
      "Epoch 209/500\n",
      " - 0s - loss: 0.0118\n",
      "Epoch 210/500\n",
      " - 0s - loss: 0.0118\n",
      "Epoch 211/500\n",
      " - 0s - loss: 0.0119\n",
      "Epoch 212/500\n",
      " - 0s - loss: 0.0119\n",
      "Epoch 213/500\n",
      " - 0s - loss: 0.0119\n",
      "Epoch 214/500\n",
      " - 0s - loss: 0.0119\n",
      "Epoch 215/500\n",
      " - 0s - loss: 0.0119\n",
      "Epoch 216/500\n",
      " - 0s - loss: 0.0120\n",
      "Epoch 217/500\n",
      " - 0s - loss: 0.0118\n",
      "Epoch 218/500\n",
      " - 0s - loss: 0.0119\n",
      "Epoch 219/500\n",
      " - 0s - loss: 0.0119\n",
      "Epoch 220/500\n",
      " - 0s - loss: 0.0119\n",
      "Epoch 221/500\n",
      " - 0s - loss: 0.0118\n",
      "Epoch 222/500\n",
      " - 0s - loss: 0.0118\n",
      "Epoch 223/500\n",
      " - 0s - loss: 0.0118\n",
      "Epoch 224/500\n",
      " - 0s - loss: 0.0117\n",
      "Epoch 225/500\n",
      " - 0s - loss: 0.0118\n",
      "Epoch 226/500\n",
      " - 0s - loss: 0.0117\n",
      "Epoch 227/500\n",
      " - 0s - loss: 0.0117\n",
      "Epoch 228/500\n",
      " - 0s - loss: 0.0118\n",
      "Epoch 229/500\n",
      " - 0s - loss: 0.0119\n",
      "Epoch 230/500\n",
      " - 0s - loss: 0.0118\n",
      "Epoch 231/500\n",
      " - 0s - loss: 0.0118\n",
      "Epoch 232/500\n",
      " - 0s - loss: 0.0117\n",
      "Epoch 233/500\n",
      " - 0s - loss: 0.0117\n",
      "Epoch 234/500\n",
      " - 0s - loss: 0.0116\n",
      "Epoch 235/500\n",
      " - 0s - loss: 0.0116\n",
      "Epoch 236/500\n",
      " - 0s - loss: 0.0116\n",
      "Epoch 237/500\n",
      " - 0s - loss: 0.0117\n",
      "Epoch 238/500\n"
     ]
    },
    {
     "name": "stdout",
     "output_type": "stream",
     "text": [
      " - 0s - loss: 0.0116\n",
      "Epoch 239/500\n",
      " - 0s - loss: 0.0117\n",
      "Epoch 240/500\n",
      " - 0s - loss: 0.0117\n",
      "Epoch 241/500\n",
      " - 0s - loss: 0.0117\n",
      "Epoch 242/500\n",
      " - 0s - loss: 0.0116\n",
      "Epoch 243/500\n",
      " - 0s - loss: 0.0116\n",
      "Epoch 244/500\n",
      " - 0s - loss: 0.0116\n",
      "Epoch 245/500\n",
      " - 0s - loss: 0.0118\n",
      "Epoch 246/500\n",
      " - 0s - loss: 0.0117\n",
      "Epoch 247/500\n",
      " - 0s - loss: 0.0117\n",
      "Epoch 248/500\n",
      " - 0s - loss: 0.0118\n",
      "Epoch 249/500\n",
      " - 0s - loss: 0.0122\n",
      "Epoch 250/500\n",
      " - 0s - loss: 0.0118\n",
      "Epoch 251/500\n",
      " - 0s - loss: 0.0118\n",
      "Epoch 252/500\n",
      " - 0s - loss: 0.0115\n",
      "Epoch 253/500\n",
      " - 0s - loss: 0.0119\n",
      "Epoch 254/500\n",
      " - 0s - loss: 0.0118\n",
      "Epoch 255/500\n",
      " - 0s - loss: 0.0116\n",
      "Epoch 256/500\n",
      " - 0s - loss: 0.0119\n",
      "Epoch 257/500\n",
      " - 0s - loss: 0.0118\n",
      "Epoch 258/500\n",
      " - 0s - loss: 0.0115\n",
      "Epoch 259/500\n",
      " - 0s - loss: 0.0117\n",
      "Epoch 260/500\n",
      " - 0s - loss: 0.0115\n",
      "Epoch 261/500\n",
      " - 0s - loss: 0.0115\n",
      "Epoch 262/500\n",
      " - 0s - loss: 0.0114\n",
      "Epoch 263/500\n",
      " - 0s - loss: 0.0115\n",
      "Epoch 264/500\n",
      " - 0s - loss: 0.0115\n",
      "Epoch 265/500\n",
      " - 0s - loss: 0.0114\n",
      "Epoch 266/500\n",
      " - 0s - loss: 0.0115\n",
      "Epoch 267/500\n",
      " - 0s - loss: 0.0114\n",
      "Epoch 268/500\n",
      " - 0s - loss: 0.0115\n",
      "Epoch 269/500\n",
      " - 0s - loss: 0.0116\n",
      "Epoch 270/500\n",
      " - 0s - loss: 0.0115\n",
      "Epoch 271/500\n",
      " - 0s - loss: 0.0115\n",
      "Epoch 272/500\n",
      " - 0s - loss: 0.0115\n",
      "Epoch 273/500\n",
      " - 0s - loss: 0.0115\n",
      "Epoch 274/500\n",
      " - 0s - loss: 0.0115\n",
      "Epoch 275/500\n",
      " - 0s - loss: 0.0114\n",
      "Epoch 276/500\n",
      " - 0s - loss: 0.0115\n",
      "Epoch 277/500\n",
      " - 0s - loss: 0.0114\n",
      "Epoch 278/500\n",
      " - 0s - loss: 0.0113\n",
      "Epoch 279/500\n",
      " - 0s - loss: 0.0115\n",
      "Epoch 280/500\n",
      " - 0s - loss: 0.0114\n",
      "Epoch 281/500\n",
      " - 0s - loss: 0.0115\n",
      "Epoch 282/500\n",
      " - 0s - loss: 0.0114\n",
      "Epoch 283/500\n",
      " - 0s - loss: 0.0114\n",
      "Epoch 284/500\n",
      " - 0s - loss: 0.0115\n",
      "Epoch 285/500\n",
      " - 0s - loss: 0.0116\n",
      "Epoch 286/500\n",
      " - 0s - loss: 0.0117\n",
      "Epoch 287/500\n",
      " - 0s - loss: 0.0113\n",
      "Epoch 288/500\n",
      " - 0s - loss: 0.0115\n",
      "Epoch 289/500\n",
      " - 0s - loss: 0.0114\n",
      "Epoch 290/500\n",
      " - 0s - loss: 0.0114\n",
      "Epoch 291/500\n",
      " - 0s - loss: 0.0114\n",
      "Epoch 292/500\n",
      " - 0s - loss: 0.0114\n",
      "Epoch 293/500\n",
      " - 0s - loss: 0.0113\n",
      "Epoch 294/500\n",
      " - 0s - loss: 0.0113\n",
      "Epoch 295/500\n",
      " - 0s - loss: 0.0114\n",
      "Epoch 296/500\n",
      " - 0s - loss: 0.0114\n",
      "Epoch 297/500\n",
      " - 0s - loss: 0.0113\n",
      "Epoch 298/500\n",
      " - 0s - loss: 0.0113\n",
      "Epoch 299/500\n",
      " - 0s - loss: 0.0114\n",
      "Epoch 300/500\n",
      " - 0s - loss: 0.0114\n",
      "Epoch 301/500\n",
      " - 0s - loss: 0.0114\n",
      "Epoch 302/500\n",
      " - 0s - loss: 0.0113\n",
      "Epoch 303/500\n",
      " - 0s - loss: 0.0114\n",
      "Epoch 304/500\n",
      " - 0s - loss: 0.0113\n",
      "Epoch 305/500\n",
      " - 0s - loss: 0.0113\n",
      "Epoch 306/500\n",
      " - 0s - loss: 0.0113\n",
      "Epoch 307/500\n",
      " - 0s - loss: 0.0115\n",
      "Epoch 308/500\n",
      " - 0s - loss: 0.0116\n",
      "Epoch 309/500\n",
      " - 0s - loss: 0.0113\n",
      "Epoch 310/500\n",
      " - 0s - loss: 0.0113\n",
      "Epoch 311/500\n",
      " - 0s - loss: 0.0114\n",
      "Epoch 312/500\n",
      " - 0s - loss: 0.0113\n",
      "Epoch 313/500\n",
      " - 0s - loss: 0.0113\n",
      "Epoch 314/500\n",
      " - 0s - loss: 0.0113\n",
      "Epoch 315/500\n",
      " - 0s - loss: 0.0114\n",
      "Epoch 316/500\n",
      " - 0s - loss: 0.0112\n",
      "Epoch 317/500\n",
      " - 0s - loss: 0.0113\n",
      "Epoch 318/500\n",
      " - 0s - loss: 0.0112\n",
      "Epoch 319/500\n",
      " - 0s - loss: 0.0113\n",
      "Epoch 320/500\n",
      " - 0s - loss: 0.0113\n",
      "Epoch 321/500\n",
      " - 0s - loss: 0.0112\n",
      "Epoch 322/500\n",
      " - 0s - loss: 0.0114\n",
      "Epoch 323/500\n",
      " - 0s - loss: 0.0117\n",
      "Epoch 324/500\n",
      " - 0s - loss: 0.0115\n",
      "Epoch 325/500\n",
      " - 0s - loss: 0.0114\n",
      "Epoch 326/500\n",
      " - 0s - loss: 0.0113\n",
      "Epoch 327/500\n",
      " - 0s - loss: 0.0112\n",
      "Epoch 328/500\n",
      " - 0s - loss: 0.0113\n",
      "Epoch 329/500\n",
      " - 0s - loss: 0.0114\n",
      "Epoch 330/500\n",
      " - 0s - loss: 0.0113\n",
      "Epoch 331/500\n",
      " - 0s - loss: 0.0112\n",
      "Epoch 332/500\n",
      " - 0s - loss: 0.0115\n",
      "Epoch 333/500\n",
      " - 0s - loss: 0.0113\n",
      "Epoch 334/500\n",
      " - 0s - loss: 0.0113\n",
      "Epoch 335/500\n",
      " - 0s - loss: 0.0111\n",
      "Epoch 336/500\n",
      " - 0s - loss: 0.0112\n",
      "Epoch 337/500\n",
      " - 0s - loss: 0.0112\n",
      "Epoch 338/500\n",
      " - 0s - loss: 0.0114\n",
      "Epoch 339/500\n",
      " - 0s - loss: 0.0113\n",
      "Epoch 340/500\n",
      " - 0s - loss: 0.0112\n",
      "Epoch 341/500\n",
      " - 0s - loss: 0.0112\n",
      "Epoch 342/500\n",
      " - 0s - loss: 0.0112\n",
      "Epoch 343/500\n",
      " - 0s - loss: 0.0111\n",
      "Epoch 344/500\n",
      " - 0s - loss: 0.0112\n",
      "Epoch 345/500\n",
      " - 0s - loss: 0.0112\n",
      "Epoch 346/500\n",
      " - 0s - loss: 0.0112\n",
      "Epoch 347/500\n",
      " - 0s - loss: 0.0111\n",
      "Epoch 348/500\n",
      " - 0s - loss: 0.0113\n",
      "Epoch 349/500\n",
      " - 0s - loss: 0.0112\n",
      "Epoch 350/500\n",
      " - 0s - loss: 0.0112\n",
      "Epoch 351/500\n",
      " - 0s - loss: 0.0112\n",
      "Epoch 352/500\n",
      " - 0s - loss: 0.0112\n",
      "Epoch 353/500\n",
      " - 0s - loss: 0.0115\n",
      "Epoch 354/500\n",
      " - 0s - loss: 0.0112\n",
      "Epoch 355/500\n",
      " - 0s - loss: 0.0112\n",
      "Epoch 356/500\n",
      " - 0s - loss: 0.0112\n",
      "Epoch 357/500\n",
      " - 0s - loss: 0.0111\n",
      "Epoch 358/500\n",
      " - 0s - loss: 0.0111\n",
      "Epoch 359/500\n",
      " - 0s - loss: 0.0111\n",
      "Epoch 360/500\n",
      " - 0s - loss: 0.0113\n",
      "Epoch 361/500\n",
      " - 0s - loss: 0.0110\n",
      "Epoch 362/500\n",
      " - 0s - loss: 0.0114\n",
      "Epoch 363/500\n",
      " - 0s - loss: 0.0111\n",
      "Epoch 364/500\n",
      " - 0s - loss: 0.0113\n",
      "Epoch 365/500\n",
      " - 0s - loss: 0.0111\n",
      "Epoch 366/500\n",
      " - 0s - loss: 0.0113\n",
      "Epoch 367/500\n",
      " - 0s - loss: 0.0115\n",
      "Epoch 368/500\n",
      " - 0s - loss: 0.0112\n",
      "Epoch 369/500\n",
      " - 0s - loss: 0.0112\n",
      "Epoch 370/500\n",
      " - 0s - loss: 0.0112\n",
      "Epoch 371/500\n",
      " - 0s - loss: 0.0111\n",
      "Epoch 372/500\n",
      " - 0s - loss: 0.0111\n",
      "Epoch 373/500\n",
      " - 0s - loss: 0.0110\n",
      "Epoch 374/500\n",
      " - 0s - loss: 0.0111\n",
      "Epoch 375/500\n",
      " - 0s - loss: 0.0110\n",
      "Epoch 376/500\n",
      " - 0s - loss: 0.0112\n",
      "Epoch 377/500\n",
      " - 0s - loss: 0.0110\n",
      "Epoch 378/500\n",
      " - 0s - loss: 0.0110\n",
      "Epoch 379/500\n",
      " - 0s - loss: 0.0113\n",
      "Epoch 380/500\n",
      " - 0s - loss: 0.0110\n",
      "Epoch 381/500\n",
      " - 0s - loss: 0.0111\n",
      "Epoch 382/500\n",
      " - 0s - loss: 0.0110\n",
      "Epoch 383/500\n",
      " - 0s - loss: 0.0110\n",
      "Epoch 384/500\n",
      " - 0s - loss: 0.0111\n",
      "Epoch 385/500\n",
      " - 0s - loss: 0.0112\n",
      "Epoch 386/500\n",
      " - 0s - loss: 0.0113\n",
      "Epoch 387/500\n",
      " - 0s - loss: 0.0112\n",
      "Epoch 388/500\n",
      " - 0s - loss: 0.0115\n",
      "Epoch 389/500\n",
      " - 0s - loss: 0.0112\n",
      "Epoch 390/500\n",
      " - 0s - loss: 0.0113\n",
      "Epoch 391/500\n",
      " - 0s - loss: 0.0110\n",
      "Epoch 392/500\n",
      " - 0s - loss: 0.0111\n",
      "Epoch 393/500\n",
      " - 0s - loss: 0.0110\n",
      "Epoch 394/500\n",
      " - 0s - loss: 0.0110\n",
      "Epoch 395/500\n",
      " - 0s - loss: 0.0111\n",
      "Epoch 396/500\n",
      " - 0s - loss: 0.0110\n",
      "Epoch 397/500\n",
      " - 0s - loss: 0.0109\n",
      "Epoch 398/500\n",
      " - 0s - loss: 0.0110\n",
      "Epoch 399/500\n",
      " - 0s - loss: 0.0112\n",
      "Epoch 400/500\n",
      " - 0s - loss: 0.0109\n",
      "Epoch 401/500\n",
      " - 0s - loss: 0.0111\n",
      "Epoch 402/500\n",
      " - 0s - loss: 0.0108\n",
      "Epoch 403/500\n",
      " - 0s - loss: 0.0111\n",
      "Epoch 404/500\n",
      " - 0s - loss: 0.0110\n",
      "Epoch 405/500\n",
      " - 0s - loss: 0.0109\n",
      "Epoch 406/500\n",
      " - 0s - loss: 0.0109\n",
      "Epoch 407/500\n",
      " - 0s - loss: 0.0109\n",
      "Epoch 408/500\n",
      " - 0s - loss: 0.0109\n",
      "Epoch 409/500\n",
      " - 0s - loss: 0.0109\n",
      "Epoch 410/500\n",
      " - 0s - loss: 0.0109\n",
      "Epoch 411/500\n",
      " - 0s - loss: 0.0109\n",
      "Epoch 412/500\n",
      " - 0s - loss: 0.0109\n",
      "Epoch 413/500\n",
      " - 0s - loss: 0.0110\n",
      "Epoch 414/500\n",
      " - 0s - loss: 0.0111\n",
      "Epoch 415/500\n",
      " - 0s - loss: 0.0112\n",
      "Epoch 416/500\n",
      " - 0s - loss: 0.0112\n",
      "Epoch 417/500\n",
      " - 0s - loss: 0.0111\n",
      "Epoch 418/500\n",
      " - 0s - loss: 0.0108\n",
      "Epoch 419/500\n",
      " - 0s - loss: 0.0110\n",
      "Epoch 420/500\n",
      " - 0s - loss: 0.0112\n",
      "Epoch 421/500\n",
      " - 0s - loss: 0.0110\n",
      "Epoch 422/500\n",
      " - 0s - loss: 0.0108\n",
      "Epoch 423/500\n",
      " - 0s - loss: 0.0108\n",
      "Epoch 424/500\n",
      " - 0s - loss: 0.0108\n",
      "Epoch 425/500\n",
      " - 0s - loss: 0.0108\n",
      "Epoch 426/500\n",
      " - 0s - loss: 0.0109\n",
      "Epoch 427/500\n",
      " - 0s - loss: 0.0108\n",
      "Epoch 428/500\n",
      " - 0s - loss: 0.0110\n",
      "Epoch 429/500\n",
      " - 0s - loss: 0.0111\n",
      "Epoch 430/500\n",
      " - 0s - loss: 0.0109\n",
      "Epoch 431/500\n",
      " - 0s - loss: 0.0108\n",
      "Epoch 432/500\n",
      " - 0s - loss: 0.0110\n",
      "Epoch 433/500\n",
      " - 0s - loss: 0.0108\n",
      "Epoch 434/500\n",
      " - 0s - loss: 0.0108\n",
      "Epoch 435/500\n",
      " - 0s - loss: 0.0108\n",
      "Epoch 436/500\n",
      " - 0s - loss: 0.0107\n",
      "Epoch 437/500\n",
      " - 0s - loss: 0.0111\n",
      "Epoch 438/500\n",
      " - 0s - loss: 0.0108\n",
      "Epoch 439/500\n",
      " - 0s - loss: 0.0109\n",
      "Epoch 440/500\n",
      " - 0s - loss: 0.0108\n",
      "Epoch 441/500\n",
      " - 0s - loss: 0.0109\n",
      "Epoch 442/500\n",
      " - 0s - loss: 0.0108\n",
      "Epoch 443/500\n",
      " - 0s - loss: 0.0108\n",
      "Epoch 444/500\n",
      " - 0s - loss: 0.0108\n",
      "Epoch 445/500\n",
      " - 0s - loss: 0.0107\n",
      "Epoch 446/500\n",
      " - 0s - loss: 0.0108\n",
      "Epoch 447/500\n",
      " - 0s - loss: 0.0111\n",
      "Epoch 448/500\n",
      " - 0s - loss: 0.0107\n",
      "Epoch 449/500\n",
      " - 0s - loss: 0.0107\n",
      "Epoch 450/500\n",
      " - 0s - loss: 0.0108\n",
      "Epoch 451/500\n",
      " - 0s - loss: 0.0107\n",
      "Epoch 452/500\n",
      " - 0s - loss: 0.0107\n",
      "Epoch 453/500\n",
      " - 0s - loss: 0.0108\n",
      "Epoch 454/500\n",
      " - 0s - loss: 0.0107\n",
      "Epoch 455/500\n",
      " - 0s - loss: 0.0107\n",
      "Epoch 456/500\n",
      " - 0s - loss: 0.0109\n",
      "Epoch 457/500\n",
      " - 0s - loss: 0.0108\n",
      "Epoch 458/500\n",
      " - 0s - loss: 0.0108\n",
      "Epoch 459/500\n",
      " - 0s - loss: 0.0107\n",
      "Epoch 460/500\n",
      " - 0s - loss: 0.0110\n",
      "Epoch 461/500\n",
      " - 0s - loss: 0.0109\n",
      "Epoch 462/500\n",
      " - 0s - loss: 0.0108\n",
      "Epoch 463/500\n",
      " - 0s - loss: 0.0106\n",
      "Epoch 464/500\n",
      " - 0s - loss: 0.0106\n",
      "Epoch 465/500\n",
      " - 0s - loss: 0.0106\n",
      "Epoch 466/500\n",
      " - 0s - loss: 0.0107\n",
      "Epoch 467/500\n",
      " - 0s - loss: 0.0107\n",
      "Epoch 468/500\n",
      " - 0s - loss: 0.0106\n",
      "Epoch 469/500\n",
      " - 0s - loss: 0.0107\n",
      "Epoch 470/500\n",
      " - 0s - loss: 0.0108\n",
      "Epoch 471/500\n",
      " - 0s - loss: 0.0106\n",
      "Epoch 472/500\n",
      " - 0s - loss: 0.0106\n"
     ]
    },
    {
     "name": "stdout",
     "output_type": "stream",
     "text": [
      "Epoch 473/500\n",
      " - 0s - loss: 0.0109\n",
      "Epoch 474/500\n",
      " - 0s - loss: 0.0108\n",
      "Epoch 475/500\n",
      " - 0s - loss: 0.0106\n",
      "Epoch 476/500\n",
      " - 0s - loss: 0.0110\n",
      "Epoch 477/500\n",
      " - 0s - loss: 0.0108\n",
      "Epoch 478/500\n",
      " - 0s - loss: 0.0108\n",
      "Epoch 479/500\n",
      " - 0s - loss: 0.0106\n",
      "Epoch 480/500\n",
      " - 0s - loss: 0.0108\n",
      "Epoch 481/500\n",
      " - 0s - loss: 0.0108\n",
      "Epoch 482/500\n",
      " - 0s - loss: 0.0106\n",
      "Epoch 483/500\n",
      " - 0s - loss: 0.0108\n",
      "Epoch 484/500\n",
      " - 0s - loss: 0.0105\n",
      "Epoch 485/500\n",
      " - 0s - loss: 0.0109\n",
      "Epoch 486/500\n",
      " - 0s - loss: 0.0106\n",
      "Epoch 487/500\n",
      " - 0s - loss: 0.0108\n",
      "Epoch 488/500\n",
      " - 0s - loss: 0.0106\n",
      "Epoch 489/500\n",
      " - 0s - loss: 0.0106\n",
      "Epoch 490/500\n",
      " - 0s - loss: 0.0106\n",
      "Epoch 491/500\n",
      " - 0s - loss: 0.0106\n",
      "Epoch 492/500\n",
      " - 0s - loss: 0.0108\n",
      "Epoch 493/500\n",
      " - 0s - loss: 0.0105\n",
      "Epoch 494/500\n",
      " - 0s - loss: 0.0108\n",
      "Epoch 495/500\n",
      " - 0s - loss: 0.0112\n",
      "Epoch 496/500\n",
      " - 0s - loss: 0.0104\n",
      "Epoch 497/500\n",
      " - 0s - loss: 0.0109\n",
      "Epoch 498/500\n",
      " - 0s - loss: 0.0105\n",
      "Epoch 499/500\n",
      " - 0s - loss: 0.0108\n",
      "Epoch 500/500\n",
      " - 0s - loss: 0.0104\n"
     ]
    },
    {
     "data": {
      "text/plain": [
       "<keras.callbacks.History at 0x7f1ac4fea7f0>"
      ]
     },
     "execution_count": 79,
     "metadata": {},
     "output_type": "execute_result"
    }
   ],
   "source": [
    "model.fit(x=[X_sequence, X_features], y=y, batch_size=24, epochs=500, verbose=2)"
   ]
  },
  {
   "cell_type": "markdown",
   "metadata": {},
   "source": [
    "Prepare data for scoring"
   ]
  },
  {
   "cell_type": "code",
   "execution_count": 80,
   "metadata": {
    "collapsed": true
   },
   "outputs": [],
   "source": [
    "test = milk.copy()\n",
    "\n",
    "scaled_vals, _ = scale_series(test['milk_disease_stat'])\n",
    "test['target'] = scaled_vals\n",
    "test = test[['t', 'target', 'disease']]\n",
    "\n",
    "for t in range(1, W+1):\n",
    "    test['target_t-'+str(t)] = test['target'].shift(t)\n",
    "    \n",
    "test = test.dropna(how='any')\n",
    "test = test[test.t>=test_start_date]\n",
    "\n",
    "test_y = test.target.values\n",
    "\n",
    "test_X_features = test['disease']\n",
    "test_X_sequence = test.drop(['t', 'target', 'disease'], axis=1).as_matrix()\n",
    "\n",
    "test_X_sequence = test_X.reshape(test_X.shape[0], W, 1)"
   ]
  },
  {
   "cell_type": "code",
   "execution_count": 81,
   "metadata": {},
   "outputs": [
    {
     "data": {
      "text/plain": [
       "(36,)"
      ]
     },
     "execution_count": 81,
     "metadata": {},
     "output_type": "execute_result"
    }
   ],
   "source": [
    "test_X_features.shape"
   ]
  },
  {
   "cell_type": "code",
   "execution_count": 82,
   "metadata": {},
   "outputs": [
    {
     "data": {
      "text/plain": [
       "(36, 24, 1)"
      ]
     },
     "execution_count": 82,
     "metadata": {},
     "output_type": "execute_result"
    }
   ],
   "source": [
    "test_X_sequence.shape"
   ]
  },
  {
   "cell_type": "code",
   "execution_count": 83,
   "metadata": {
    "collapsed": true
   },
   "outputs": [],
   "source": [
    "preds = model.predict([test_X_sequence, test_X_features])"
   ]
  },
  {
   "cell_type": "code",
   "execution_count": 84,
   "metadata": {
    "collapsed": true
   },
   "outputs": [],
   "source": [
    "eval_df = test.copy()\n",
    "eval_df = eval_df[['t', 'target']]\n",
    "eval_df['preds'] = preds"
   ]
  },
  {
   "cell_type": "code",
   "execution_count": 85,
   "metadata": {},
   "outputs": [
    {
     "data": {
      "text/html": [
       "<div>\n",
       "<table border=\"1\" class=\"dataframe\">\n",
       "  <thead>\n",
       "    <tr style=\"text-align: right;\">\n",
       "      <th></th>\n",
       "      <th>t</th>\n",
       "      <th>target</th>\n",
       "      <th>preds</th>\n",
       "    </tr>\n",
       "  </thead>\n",
       "  <tbody>\n",
       "    <tr>\n",
       "      <th>132</th>\n",
       "      <td>1973-01-01</td>\n",
       "      <td>0.526390</td>\n",
       "      <td>0.544114</td>\n",
       "    </tr>\n",
       "    <tr>\n",
       "      <th>133</th>\n",
       "      <td>1973-02-01</td>\n",
       "      <td>0.405749</td>\n",
       "      <td>0.476857</td>\n",
       "    </tr>\n",
       "    <tr>\n",
       "      <th>134</th>\n",
       "      <td>1973-03-01</td>\n",
       "      <td>0.703582</td>\n",
       "      <td>0.550315</td>\n",
       "    </tr>\n",
       "    <tr>\n",
       "      <th>135</th>\n",
       "      <td>1973-04-01</td>\n",
       "      <td>0.524505</td>\n",
       "      <td>0.521712</td>\n",
       "    </tr>\n",
       "    <tr>\n",
       "      <th>136</th>\n",
       "      <td>1973-05-01</td>\n",
       "      <td>0.607446</td>\n",
       "      <td>0.504965</td>\n",
       "    </tr>\n",
       "  </tbody>\n",
       "</table>\n",
       "</div>"
      ],
      "text/plain": [
       "             t    target     preds\n",
       "132 1973-01-01  0.526390  0.544114\n",
       "133 1973-02-01  0.405749  0.476857\n",
       "134 1973-03-01  0.703582  0.550315\n",
       "135 1973-04-01  0.524505  0.521712\n",
       "136 1973-05-01  0.607446  0.504965"
      ]
     },
     "execution_count": 85,
     "metadata": {},
     "output_type": "execute_result"
    }
   ],
   "source": [
    "eval_df.head()"
   ]
  },
  {
   "cell_type": "code",
   "execution_count": 86,
   "metadata": {},
   "outputs": [
    {
     "data": {
      "text/plain": [
       "<matplotlib.axes._subplots.AxesSubplot at 0x7f1ac45f9cf8>"
      ]
     },
     "execution_count": 86,
     "metadata": {},
     "output_type": "execute_result"
    },
    {
     "data": {
      "image/png": "[encoded data removed]",
      "text/plain": [
       "<matplotlib.figure.Figure at 0x7f1b0807be80>"
      ]
     },
     "metadata": {},
     "output_type": "display_data"
    }
   ],
   "source": [
    "eval_df.plot(x='t', figsize=(15,8))"
   ]
  },
  {
   "cell_type": "code",
   "execution_count": 87,
   "metadata": {},
   "outputs": [
    {
     "name": "stdout",
     "output_type": "stream",
     "text": [
      "36/36 [==============================] - 0s 3ms/step\n"
     ]
    },
    {
     "data": {
      "text/plain": [
       "0.031762762926518917"
      ]
     },
     "execution_count": 87,
     "metadata": {},
     "output_type": "execute_result"
    }
   ],
   "source": [
    "model.evaluate([test_X_sequence, test_X_features], test_y)"
   ]
  },
  {
   "cell_type": "code",
   "execution_count": null,
   "metadata": {
    "collapsed": true
   },
   "outputs": [],
   "source": []
  }
 ],
 "metadata": {
  "kernelspec": {
   "display_name": "Python 3",
   "language": "python",
   "name": "python3"
  },
  "language_info": {
   "codemirror_mode": {
    "name": "ipython",
    "version": 3
   },
   "file_extension": ".py",
   "mimetype": "text/x-python",
   "name": "python",
   "nbconvert_exporter": "python",
   "pygments_lexer": "ipython3",
   "version": "3.5.2"
  }
 },
 "nbformat": 4,
 "nbformat_minor": 2
}
